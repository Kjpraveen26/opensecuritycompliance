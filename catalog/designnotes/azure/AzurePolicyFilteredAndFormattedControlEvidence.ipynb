{
  "cells": [
    {
      "cell_type": "markdown",
      "metadata": {
        "id": "sFlmicb0Mlse"
      },
      "source": [
        "# Step 1: Evidence Details\n",
        "\n",
        "\n",
        "|Evidence name|System|Source of data|Frameworks|Purpose|\n",
        "|---|---|---|---|---|\n",
        "|FilteredAndFormattedControlEvidence|Azure Policy|Azure Policy|AzurePolicy|Get azure policy run result and standardize it.|\n",
        "\n",
        "\n",
        "\n",
        "```\n",
        "Purpose:\n",
        "Get azure policy run result and standardize it.\n",
        "\n",
        "Suggested Name:\n",
        "```\n",
        "FilteredAndFormattedControlEvidence\n",
        "```\n"
      ]
    },
    {
      "cell_type": "markdown",
      "metadata": {
        "id": "HwaAN4PWRC-_"
      },
      "source": [
        "# Step 2: System Specific Data (a.k.a Extended Data Schema)\n",
        "\n",
        "---"
      ]
    },
    {
      "cell_type": "code",
      "execution_count": null,
      "metadata": {
        "colab": {
          "base_uri": "https://localhost:8080/",
          "height": 143
        },
        "id": "806DY6lcLpgH",
        "outputId": "7efa617d-ad8b-4b28-fd8e-8f96f2ca3a13"
      },
      "outputs": [],
      "source": [
        "##@title # System Specific Schema / Extended Schema\n",
        "#@markdown ## Describe the plugins that bring the data. This can be native to the system and/or the source of data\n",
        "\n",
        "#Current EvidenceColumns in CC\n",
        "[\n",
        "  {\n",
        "    \"PolicyDefinitionReferenceId\": \"Policy123\",\n",
        "    \"PolicyDefinitionName\": \"RequireEncryption\",\n",
        "    \"PolicySetDefinitionName\": \"DataProtectionPolicy\",\n",
        "    \"PolicyDefinitionGroupName\": \"Security\",\n",
        "    \"ComplianceState\": \"Non-Compliant\",\n",
        "    \"ComplianceReasonCode\": \"MissingEncryption\",\n",
        "    \"PolicyAssignmentName\": \"EncryptionPolicyAssignment\",\n",
        "    \"PolicyEvaluationTime\": \"2024-03-15T08:00:00Z\",\n",
        "    \"SubscriptionId\": \"12345678-90ab-cdef-1234-567890abcdef\",\n",
        "    \"ResourceID\": \"/subscriptions/12345678-90ab-cdef-1234-567890abcdef/resourceGroups/MyResourceGroup/providers/Microsoft.Storage/storageAccounts/MyStorageAccount\",\n",
        "    \"ResourceType\": \"Microsoft.Storage/storageAccounts\",\n",
        "    \"ResourceLocation\": \"eastus\",\n",
        "    \"ResourceGroup\": \"MyResourceGroup\",\n",
        "    \"ResourceTags\": {\n",
        "      \"Environment\": \"Production\",\n",
        "      \"Department\": \"IT\"\n",
        "    },\n",
        "    \"PolicySetDefinitionOwner\": \"CorporateSecurityTeam\",\n",
        "    \"PolicySetDefinitionCategory\": \"DataProtection\",\n",
        "    \"PolicyDefinitionVersion\": \"1.0\",\n",
        "    \"PolicySetDefinitionVersion\": \"1.2\",\n",
        "    \"Action\": \"EnableEncryption\"\n",
        "  }\n",
        "]\n",
        "\n",
        "\n",
        "\n"
      ]
    },
    {
      "cell_type": "markdown",
      "metadata": {
        "id": "cACY5hK9D43e"
      },
      "source": [
        "#From ListRegisters API in Azure\n",
        "GET https://management.azure.com/subscriptions/12345678-90ab-cdef-1234-567890abcdef/providers/Microsoft.ContainerRegistry/registries?api-version=2023-01-01-preview\n",
        "\n"
      ]
    },
    {
      "cell_type": "code",
      "execution_count": null,
      "metadata": {
        "id": "zXJmP6vbhhLt"
      },
      "outputs": [],
      "source": [
        "\n",
        "#Sample Evidence From List Registries API in AZURE\n",
        "\n",
        "{\n",
        "  \"value\": [\n",
        "    {\n",
        "      \"id\": \"/subscriptions/00000000-0000-0000-0000-000000000000/resourceGroups/myResourceGroup/providers/Microsoft.ContainerRegistry/registries/MyRegistry\",\n",
        "      \"name\": \"MyRegistry\",\n",
        "      \"type\": \"Microsoft.ContainerRegistry/registries\",\n",
        "      \"location\": \"westus\",\n",
        "      \"tags\": {\n",
        "        \"key\": \"value\"\n",
        "      },\n",
        "      \"sku\": {\n",
        "        \"name\": \"Standard\",\n",
        "        \"tier\": \"Standard\"\n",
        "      },\n",
        "      \"properties\": {\n",
        "        \"loginServer\": \"myRegistry.azurecr-test.io\",\n",
        "        \"creationDate\": \"2021-06-15T21:38:26.1537861Z\",\n",
        "        \"provisioningState\": \"Succeeded\",\n",
        "        \"adminUserEnabled\": false,\n",
        "        \"networkRuleSet\": { #Compliance Condtional Field For This Specific Control\n",
        "          \"defaultAction\": \"Allow\", # Non compliant because no network filtering is enabled\n",
        "          \"ipRules\": []\n",
        "        },\n",
        "        \"policies\": {\n",
        "          \"quarantinePolicy\": {\n",
        "            \"status\": \"disabled\"\n",
        "          },\n",
        "          \"trustPolicy\": {\n",
        "            \"type\": \"Notary\",\n",
        "            \"status\": \"disabled\"\n",
        "          },\n",
        "          \"retentionPolicy\": {\n",
        "            \"days\": 7,\n",
        "            \"lastUpdatedTime\": \"2021-06-15T21:40:12.8506835+00:00\",\n",
        "            \"status\": \"disabled\"\n",
        "          },\n",
        "          \"exportPolicy\": {\n",
        "            \"status\": \"enabled\"\n",
        "          }\n",
        "        },\n",
        "        \"encryption\": {\n",
        "          \"status\": \"disabled\"\n",
        "        },\n",
        "        \"status\": null,\n",
        "        \"dataEndpointEnabled\": false,\n",
        "        \"dataEndpointHostNames\": [],\n",
        "        \"privateEndpointConnections\": [],\n",
        "        \"publicNetworkAccess\": \"Enabled\",\n",
        "        \"networkRuleBypassOptions\": \"AzureServices\",\n",
        "        \"zoneRedundancy\": \"Disabled\",\n",
        "        \"anonymousPullEnabled\": false\n",
        "      }\n",
        "    }\n",
        "  ]\n",
        "}"
      ]
    },
    {
      "cell_type": "markdown",
      "metadata": {
        "id": "ouhtS-H1SHbX"
      },
      "source": [
        "# Step 3: Define the Standard Schema"
      ]
    },
    {
      "cell_type": "code",
      "execution_count": null,
      "metadata": {
        "colab": {
          "base_uri": "https://localhost:8080/",
          "height": 143
        },
        "id": "Y96rO3Nb2Yjo",
        "outputId": "d6be8630-8c99-4da3-a50b-5d46aa0edc3f"
      },
      "outputs": [],
      "source": [
        "#Standard Schema\n",
        "[\n",
        "\t{\n",
        "  #Meta\n",
        "  \"System\":\"azure\", #[azure,]\n",
        "\t\"Source\":\"compliancecow\",#[\"compliancecow\",\"aws_config\", \"aws_security_hub\",\"azure_policy\", \"azure_sentinel\", \"azure_defender\"] : Please note that the source name is all in LOWER CASE\n",
        "\n",
        "\t#ResourceInformation\n",
        "  \"ResourceId\":\"/subscriptions/00/resourceGroups/MyRegistry/providers/Microsoft.ContainerRegistry/registries/MyRegistry\",\n",
        "\t\"ResourceType\":\"Microsoft.ContainerRegistry/registries\",\n",
        "\t\"ResourceName\":\"MyRegistry\",\n",
        "  \"ResourceUrl\":\"\",\n",
        "\n",
        "  #Infered Compliance Conditional fields\n",
        "  \"PublicNetworkAccess\": \"Enabled\", # Field won't be available in standard schema as the source of truth is not the container registry data rather the azure policy run\n",
        "                                    # result. Which doesnt contain the specific field for the control.\n",
        "\n",
        "\n",
        "  #Compliance Details\n",
        "    \"ComplianceStatus\":\"\",# COMPLIANT/NON_COMPLIANT/NOT_DETERMINED\n",
        "\t\t\"ComplianceStatusReason\":\"\",\n",
        "    \"ValidationStatusCode\":\"\" ,\n",
        "    \"ValidationStatusNotes\":\"\",\n",
        "\t\t\"EvaluatedTime\":\"\",\n",
        "    # \"RelatedEvidenceLink\":\"\" ,# Extended Schema record Link - Will Have the entire api response of Container Registry List\n",
        "\t\t#Editable Data\n",
        "    \"Action\":\"\",\n",
        "    #Tags\n",
        "    \"Tags\": [],\n",
        "\n",
        "\t\t}\n",
        "]"
      ]
    },
    {
      "cell_type": "markdown",
      "metadata": {},
      "source": [
        "# Step 3.a: Sample Data\n",
        "\n",
        "| System | Source        | ResourceId                                                                                                          | ResourceType                    | ResourceName | ResourceUrl | PublicNetworkAccess | ComplianceStatus | ComplianceStatusReason | ValidationStatusCode | ValidationStatusNotes | EvaluatedTime | Action | Tags |\n",
        "|--------|---------------|---------------------------------------------------------------------------------------------------------------------|---------------------------------|--------------|-------------|---------------------|-------------------|------------------------|----------------------|----------------------|---------------|--------|------|\n",
        "| azure  | compliancecow | /subscriptions/00/resourceGroups/MyRegistry/providers/Microsoft.ContainerRegistry/registries/MyRegistry | Microsoft.ContainerRegistry/registries | MyRegistry   |             | Enabled             |                   |                        |                      |                      |               |        |      |\n"
      ]
    },
    {
      "cell_type": "markdown",
      "metadata": {
        "id": "bxsZR5l8SiOd"
      },
      "source": [
        "# Step 4: Compliance Taxonomy\n",
        "\n",
        "\n"
      ]
    },
    {
      "cell_type": "markdown",
      "metadata": {
        "id": "My4P8-vinN3t"
      },
      "source": [
        "The compliance taxonomy changes based on the ControlName field, from the ControlConfig.json, which can be found inside catalog/globalcatalog/rules/AzurePolicyFilteredAndFormattedControlEvidence/ControlConfig.json.\n",
        "\n",
        "The below table contains the taxonomy for the ControlName: containerregistriesshouldnotallowunrestrictednetworkaccessmonitoringeffect\n",
        "\n",
        "|CompliantStatus|ValidationStatusCode|ComplianceStatusReason|ValidationStatusNotes|\n",
        "|---|---|---|---|\n",
        "|COMPLIANT|PUBLIC_NETWORK_ACCESS_DISABLED|Only allowed networks can access the container registry|Only Allowed Networks should be able to access Container Registry|\n",
        "|NON_COMPLIANT|PUBLIC_NETWORK_ACCESS_ENABLED|All networks can access the container registry|Disable public network access to the container registry|\n",
        "|NOT_DETERMINED|NOT_DETERMINED|NOT_DETERMINED|Could not Evaluate the Control Compliance Status|"
      ]
    },
    {
      "cell_type": "markdown",
      "metadata": {
        "id": "3Td93O7WSX26"
      },
      "source": [
        "# Step 5: Calculation for Compliance Percentage and Status\n",
        "\n",
        "\n"
      ]
    },
    {
      "cell_type": "code",
      "execution_count": null,
      "metadata": {},
      "outputs": [],
      "source": [
        "# Calculation of Compliance Percentage\n",
        "Compliance Percentage = (Count of 'COMPLIANT' records/Total records)*100\n",
        "\n",
        "# Compliance Status \n",
        "COMPLIANT - 100%\n",
        "NON_COMPLIANT - 0%<=status<100%\n",
        "NOT_DETERMINED - If no resources are found in the account\n"
      ]
    },
    {
      "cell_type": "markdown",
      "metadata": {},
      "source": [
        "# Step 6: Remediation Steps for Non-Compliance\n",
        "<br>Recomendation:Change the settings in Container Registry resource Netwok settings to Selected Networks and Provide list of allowed Networks. See the documentation for a step by step guide:\n",
        "https://learn.microsoft.com/en-us/azure/container-registry/container-registry-access-selected-networks\n",
        "<br>Jira or some other Ticket Creation\n"
      ]
    },
    {
      "cell_type": "markdown",
      "metadata": {},
      "source": [
        "\n",
        "## Step 7. Control Setup Details\n",
        "\n",
        "\n",
        "| Control Details            |                                               |\n",
        "|----------------------------|-----------------------------------------------|\n",
        "| **RuleName**               | AzurePolicyFilteredAndFormattedControlEvidence|\n",
        "| **PreRequisiteRuleNames**  | AzurePolicyRunResult                          |\n",
        "| **ExtendedSchemaRuleNames**| N/A                                           |\n",
        "| **ApplicationClassName**   | azureappconnector                             |"
      ]
    }
  ],
  "metadata": {
    "colab": {
      "provenance": []
    },
    "kernelspec": {
      "display_name": "Python 3",
      "name": "python3"
    },
    "language_info": {
      "name": "python"
    }
  },
  "nbformat": 4,
  "nbformat_minor": 0
}
