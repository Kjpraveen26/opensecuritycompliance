{
  "cells": [
    {
      "cell_type": "markdown",
      "metadata": {
        "id": "sFlmicb0Mlse"
      },
      "source": [
        "# Step 1: Evidence Details\n",
        "\n",
        "\n",
        "|Evidence name|System|Source of data|Frameworks|Purpose|\n",
        "|---|:---|:---|:---|:---|\n",
        "|diagnosticslogsinservicebusmonitoring|compliancecow|AzureServiceBusData|Azure ServiceBus Diagnostic Data|Ensure resource logs in Service Bus is enabled|\n",
        "\n",
        "```\n",
        "Purpose: Service Bus and its namespaces resource logs can help recreate activity trails when investigating security incidents. Enable it to make sure the logs will exist when needed.\n",
        "\n",
        "```"
      ]
    },
    {
      "cell_type": "markdown",
      "metadata": {
        "id": "HwaAN4PWRC-_"
      },
      "source": [
        "# Step 2: Define the System Specific Data (a.k.a Extended Data Schema)"
      ]
    },
    {
      "cell_type": "code",
      "execution_count": null,
      "metadata": {
        "id": "SOqwfJhSNobl"
      },
      "outputs": [],
      "source": [
        "#Extended Schema\n",
        "[\n",
        "    {\n",
        "        \"Id\": \"/subscriptions/12345678-90ab-cdef-1234-567890abcdef/resourceGroups/myResourceGroup/providers/Microsoft.Logic/workflows/MyWorkflow\",\n",
        "        \"Name\": \"MyWorkflow\",\n",
        "        \"Values\": [\n",
        "            {\n",
        "                \"id\": \"/subscriptions/12345678-90ab-cdef-1234-567890abcdef/resourcegroups/myResourceGroup/providers/microsoft.logic/workflows/MyWorkflow/providers/microsoft.insights/diagnosticSettings/MyDiagnosticSetting\",\n",
        "                \"type\": \"Microsoft.Insights/diagnosticSettings\",\n",
        "                \"name\": \"MyDiagnosticSetting\",\n",
        "                \"location\": \"southindia\",\n",
        "                \"kind\": null,\n",
        "                \"tags\": null,\n",
        "                \"properties\": {\n",
        "                    \"storageAccountId\": null,\n",
        "                    \"serviceBusRuleId\": null,\n",
        "                    \"workspaceId\": \"/subscriptions/12345678-90ab-cdef-1234-567890abcdef/resourceGroups/myResourceGroup/providers/Microsoft.OperationalInsights/workspaces/MyWorkspace\",\n",
        "                    \"eventHubAuthorizationRuleId\": null,\n",
        "                    \"eventHubName\": null,\n",
        "                    \"metrics\": [\n",
        "                        {\n",
        "                            \"category\": \"AllMetrics\",\n",
        "                            \"enabled\": false,\n",
        "                            \"retentionPolicy\": {\n",
        "                                \"enabled\": false,\n",
        "                                \"days\": 0\n",
        "                            }\n",
        "                        }\n",
        "                    ],\n",
        "                    \"logs\": [\n",
        "                        {\n",
        "                            \"category\": null,\n",
        "                            \"categoryGroup\": \"allLogs\",\n",
        "                            \"enabled\": true,\n",
        "                            \"retentionPolicy\": {\n",
        "                                \"enabled\": false,\n",
        "                                \"days\": 0\n",
        "                            }\n",
        "                        }\n",
        "                    ],\n",
        "                    \"logAnalyticsDestinationType\": null\n",
        "                },\n",
        "                \"identity\": null\n",
        "            }\n",
        "        ]\n",
        "    }\n",
        "]\n"
      ]
    },
    {
      "cell_type": "markdown",
      "metadata": {
        "id": "OMfAqx9AZD-R"
      },
      "source": [
        "# Step 3: Define the Standard Schema\n",
        "\n",
        "  "
      ]
    },
    {
      "cell_type": "code",
      "execution_count": null,
      "metadata": {
        "id": "0dPeNLZuSJcH"
      },
      "outputs": [],
      "source": [
        "#Standard Schema\n",
        "{\n",
        "    \"System\": \"azure\",\n",
        "    \"Source\": \"compliancecow\",\n",
        "    \"ResourceID\": \"/subscriptions/12345678-90ab-cdef-1234-567890abcdef/resourceGroups/MyResourceGroup/providers/Microsoft.ServiceBus/namespaces/MyServiceBus\",\n",
        "    \"ResourceType\": \"ServiceBusNameSpace\",\n",
        "    \"ResourceName\": \"MyServiceBusNameSpace\",\n",
        "    \"DiagnosticLogEnabledInServiceBusNameSpace\": \"FALSE\",\n",
        "    \"ComplianceStatus\": \"NON_COMPLIANT\",\n",
        "    \"ValidationStatusCode\": \"DIAG_LOGS_DISABLED\",\n",
        "    \"ComplianceStatusReason\": \"None of the diagnostic categor(ies) are enabled\",\n",
        "    \"ValidationStatusNotes\": \"enable one or more diagnostic logs for the resource\",\n",
        "    \"EvaluatedTime\": \"2024-01-03 17:05:36.554636\",\n",
        "    \"Action\": \"\",\n",
        "    \"Tags\": \"[]\"\n",
        "}"
      ]
    },
    {
      "cell_type": "markdown",
      "metadata": {
        "id": "CJAzX9cZxQbv"
      },
      "source": [
        "# Step 3.a: Sample Data\n",
        "\n",
        "| System | Source | ResourceId | ResourceType | ResourceName | DiagnosticLogEnabledInServiceBusNameSpace | ComplianceStatus | ValidationStatusCode | ComplianceStatusReason | ValidationStatusNotes | EvaluatedTime | Action | Tags |\n",
        "| ------ | ------------- | -------------------------------------------------------------------------------------------------------------------------------------------- | ------------------- | ----------------- | ----------------------------------------- | ---------------- | -------------------- | ----------------------------------------------- | --------------------------------------------------- | -------------------------- | ------ | ---- |\n",
        "| azure | compliancecow | /subscriptions/12345678-90ab-cdef-1234-567890abcdef/resourceGroups/MyResourceGroup/providers/Microsoft.ServiceBus/namespaces/MyServiceBus | ServiceBusNameSpace | MyServiceBus | FALSE | NON_COMPLIANT | DIAG_LOGS_DISABLED | None of the diagnostic categor(ies) are enabled | enable one or more diagnostic logs for the resource | 2024-01-03 17:05:36.554636 | | [] |\n",
        "| azure | compliancecow | /subscriptions/12345678-90ab-cdef-1234-567890abcdef/resourceGroups/MyResourceGroup/providers/Microsoft.ServiceBus/namespaces/MyServiceBus1 | ServiceBusNameSpace | MyServiceBus1| FALSE | NON_COMPLIANT | DIAG_LOGS_DISABLED | None of the diagnostic categor(ies) are enabled | enable one or more diagnostic logs for the resource | 2024-01-03 17:05:36.555128 | | [] |"
      ]
    },
    {
      "cell_type": "markdown",
      "metadata": {
        "id": "JgN9Go66jTtC"
      },
      "source": [
        "# Step 4: Describe the Compliance Taxonomy\n",
        "\n",
        "|CompliantStatus  |ValidationStatusCode|ComplianceStatusReason|ValidationStatusNotes|\n",
        "|------------|:--------------|:--------------|----------|\n",
        "|Compliant|DIAG_LOGS_ENABLED|Diagnostic log category(ies) are enabled|No actions required|\n",
        "|NonCompliant|DIAG_LOGS_DISABLED|None of the diagnostic categor(ies) are enabled|enable one or more diagnostic logs for the resource|\n",
        "\n"
      ]
    },
    {
      "cell_type": "markdown",
      "metadata": {},
      "source": [
        "# Step 5: Calculation for Compliance Percentage and Status"
      ]
    },
    {
      "cell_type": "code",
      "execution_count": null,
      "metadata": {
        "id": "3Td93O7WSX26"
      },
      "outputs": [],
      "source": [
        "# ## For each control\n",
        "# Refer Step 6 to determine if the assessment for the leaf control was compliant or non-compliant. The compliance percentage is 100% if the assessment was compliant and 0% otherwise\n",
        "\n",
        "# ## For overall assessment\n",
        "# Existing calculation will be used\n",
        "\n",
        "# **Method suggested by Azure**\n",
        "\n",
        "#  Refer - https://learn.microsoft.com/en-us/azure/governance/policy/concepts/compliance-states\n",
        "\n",
        "# overall compliance % = (compliant + exempt + unknown)  / (compliant + exempt + unknown + non-compliant + conflicting + error)\n",
        "enabled = False\n",
        "\n",
        "if row[\"Values\"] and pd.notna(row[\"Values\"]):\n",
        "    for item in ast.literal_eval(row[\"Values\"]):\n",
        "        properties = item.get(\"properties\")\n",
        "        if properties:\n",
        "            logs = properties.get(\"logs\")\n",
        "            if logs:\n",
        "                for log in logs:\n",
        "                    log_enabled = log.get(\"enabled\")\n",
        "                    if log_enabled:\n",
        "                        enabled = log_enabled\n",
        "                        break\n",
        "\n",
        "if enabled:\n",
        "    compliance_details = {\n",
        "        \"ComplianceStatus\": \"COMPLIANT\",\n",
        "        \"ValidationStatusCode\": \"DIAG_LOGS_ENABLED\",\n",
        "        \"ComplianceStatusReason\": \"Diagnostic log category(ies) are enabled\",\n",
        "        \"ValidationStatusNotes\": \"No actions required\",\n",
        "    }\n",
        "else:\n",
        "    compliance_details = {\n",
        "        \"ComplianceStatus\": \"NON_COMPLIANT\",\n",
        "        \"ValidationStatusCode\": \"DIAG_LOGS_DISABLED\",\n",
        "        \"ComplianceStatusReason\": \"None of the diagnostic categor(ies) are enabled\",\n",
        "        \"ValidationStatusNotes\": \"Enable one or more diagnostic logs for the resource\",\n",
        "    }"
      ]
    },
    {
      "cell_type": "markdown",
      "metadata": {
        "id": "uVDZ3Jv9TKZx"
      },
      "source": [
        "# Step 6: Describe (in words) the Remediation Steps for Non-Compliance\n",
        "\n",
        "FOR NOT_DETERMINED : NONE\n",
        "\n",
        "FOR COMPLIANT : None\n",
        "\n",
        "For NONCOMPLAINCE:\n",
        "\n",
        "If Compliance Cow needs to notify the client, the following message can be sent via slack or ticket raised in JIRA:\n",
        "\n",
        "Diagnostic logs for Service Bus/Service Bus Namespaces can be enabled by manual intervention\n",
        "\n",
        "1. Log in to the Azure portal.\n",
        "2. Search for \"Monitor\" in the search bar and go to the Monitor page.\n",
        "3. On the \"Monitor\" page, in the left navigation pane, choose \"Settings | Diagnostics Settings\".\n",
        "4. On the \"Diagnostics Settings\" page, under 'Resource Type' column, search for \"Service Bus/Service Bus Namespaces\". You will find all the Service Buses and Service Bus Namespaces listed one of the other\n",
        "5. Find the resource under consideration, and check the 'Diagnostics status' column.\n",
        "6. If the Diagnostics status is 'Disabled', click on the resource name. It till take you to the resource's Diagnostics Settings page.\n",
        "6. Click on 'Add diagnostic setting' link.  \n",
        "7. In the 'Add diagnostic setting' page, select all the Log category for which you want logs to be delivered to Azure Monitor.\n",
        "8. Under 'Destination Details', select one or more destination and configure the destination details for the logs to be sent.\n",
        "9. Click on 'Save' at the top of the page. This will take you back to the 'Monitor' page.\n",
        "10. On the \"Monitor\" page, verify that the 'Diagnostic Status' is Enabled."
      ]
    },
    {
      "cell_type": "markdown",
      "metadata": {},
      "source": [
        "## Step 7: Control Setup Details\n",
        "\n",
        "| Control Details            |                                               |\n",
        "|----------------------------|-----------------------------------------------|\n",
        "| **RuleName**               | IsDiagnosticLogsEnabledInAzureServiceBus      |\n",
        "| **PreRequisiteRuleNames**  | AzureServiceBusData                           |\n",
        "| **ExtendedSchemnameeNames**| AzureServiceBusData                           |\n",
        "| **ApplicationClassName**   | azureappconnector                             |\n",
        "\n"
      ]
    }
  ],
  "metadata": {
    "colab": {
      "provenance": []
    },
    "kernelspec": {
      "display_name": "Python 3",
      "name": "python3"
    },
    "language_info": {
      "name": "python"
    }
  },
  "nbformat": 4,
  "nbformat_minor": 0
}
