{
  "cells": [
    {
      "cell_type": "markdown",
      "metadata": {
        "id": "sFlmicb0Mlse"
      },
      "source": [
        "# Step 1: Evidence Details\n",
        "\n",
        "|System|Source of data|Frameworks|Purpose|\n",
        "|---|---|---|---|\n",
        "|Azure|Azure Storage Accounts|Azure|The compliance team needs evidence of users for all subscriptions that contain customer clusters, ensuring only engineers have write and/or admin access.|\n",
        "\n",
        "```\n",
        "RecomendedEvidenceName: BackupStorageAccessUsersList\n",
        "```\n",
        "\n"
      ]
    },
    {
      "cell_type": "markdown",
      "metadata": {
        "id": "HwaAN4PWRC-_"
      },
      "source": [
        "# Step 2: Define the System Specific Data\n"
      ]
    },
    {
      "cell_type": "code",
      "execution_count": null,
      "metadata": {
        "id": "a7nxEIiVcL4t"
      },
      "outputs": [],
      "source": [
        "# AzureStorageAccountsData\n",
        "[\n",
        "    {\n",
        "        \"Kind\": \"Storage\",\n",
        "        \"Id\": \"\\/subscriptions\\/123456qw-5293-8888-1234-85b26be2e9fb\\/resourceGroups\\/demo-apps\\/providers\\/Microsoft.Storage\\/storageAccounts\\/demoappsdiag\",\n",
        "        \"Name\": \"demoappsdiag\",\n",
        "        \"Type\": \"Microsoft.Storage\\/storageAccounts\",\n",
        "        \"Location\": \"westus2\",\n",
        "        \"Tags\": null,\n",
        "        \"SkuName\": \"Standard_LRS\",\n",
        "        \"SkuTier\": \"Standard\",\n",
        "        \"PropertiesKeyCreationTimeKey1\": null,\n",
        "        \"PropertiesKeyCreationTimeKey2\": null,\n",
        "        \"PropertiesAllowCrossTenantReplication\": null,\n",
        "        \"PropertiesPrivateEndpointConnections\": [],\n",
        "        \"PropertiesMinimumTlsVersion\": null,\n",
        "        \"PropertiesAllowBlobPublicAccess\": null,\n",
        "        \"PropertiesNetworkAclsBypass\": \"AzureServices\",\n",
        "        \"PropertiesNetworkAclsVirtualNetworkRules\": [],\n",
        "        \"PropertiesNetworkAclsIpRules\": [],\n",
        "        \"PropertiesNetworkAclsDefaultAction\": \"Allow\",\n",
        "        \"PropertiesSupportsHttpsTrafficOnly\": true,\n",
        "        \"PropertiesEncryptionServicesFileKeyType\": \"Account\",\n",
        "        \"PropertiesEncryptionServicesFileEnabled\": true,\n",
        "        \"PropertiesEncryptionServicesFileLastEnabledTime\": \"2020-02-16T17:07:10.5799360Z\",\n",
        "        \"PropertiesEncryptionServicesBlobKeyType\": \"Account\",\n",
        "        \"PropertiesEncryptionServicesBlobEnabled\": true,\n",
        "        \"PropertiesEncryptionServicesBlobLastEnabledTime\": \"2020-02-16T17:07:10.5799360Z\",\n",
        "        \"PropertiesEncryptionKeySource\": \"Microsoft.Storage\",\n",
        "        \"PropertiesProvisioningState\": \"Succeeded\",\n",
        "        \"PropertiesCreationTime\": \"2020-02-16T17:07:10.5175099Z\",\n",
        "        \"PropertiesPrimaryEndpointsBlob\": \"https:\\/\\/demoappsdiag.blob.core.windows.net\\/\",\n",
        "        \"PropertiesPrimaryEndpointsQueue\": \"https:\\/\\/demoappsdiag.queue.core.windows.net\\/\",\n",
        "        \"PropertiesPrimaryEndpointsTable\": \"https:\\/\\/demoappsdiag.table.core.windows.net\\/\",\n",
        "        \"PropertiesPrimaryEndpointsFile\": \"https:\\/\\/demoappsdiag.file.core.windows.net\\/\",\n",
        "        \"PropertiesPrimaryLocation\": \"westus2\",\n",
        "        \"PropertiesStatusOfPrimary\": \"available\",\n",
        "        \"PropertiesIsHnsEnabled\": null,\n",
        "        \"PropertiesAccessTier\": null,\n",
        "        \"PropertiesPrimaryEndpointsDfs\": null,\n",
        "        \"PropertiesPrimaryEndpointsWeb\": null,\n",
        "        \"TagsMs-resource-usage\": null,\n",
        "        \"PropertiesAllowSharedKeyAccess\": null,\n",
        "        \"PropertiesEncryptionRequireInfrastructureEncryption\": null,\n",
        "        \"PropertiesSecondaryLocation\": null,\n",
        "        \"PropertiesStatusOfSecondary\": null,\n",
        "        \"PropertiesSecondaryEndpointsDfs\": null,\n",
        "        \"PropertiesSecondaryEndpointsWeb\": null,\n",
        "        \"PropertiesSecondaryEndpointsBlob\": null,\n",
        "        \"PropertiesSecondaryEndpointsQueue\": null,\n",
        "        \"PropertiesSecondaryEndpointsTable\": null,\n",
        "        \"TagsDisplayName\": null,\n",
        "        \"ResourceURL\": \"https:\\/\\/portal.azure.com\\/#@.com\\/resource\\/subscriptions\\/123456qw-5293-8888-1234-85b26be2e9fb\\/resourceGroups\\/demo-apps\\/providers\\/Microsoft.Storage\\/storageAccounts\\/demoappsdiag\\/overview\"\n",
        "    }\n",
        "]\n",
        "\n",
        "# AzureUsersList\n",
        "[\n",
        "    {\n",
        "        \"BusinessPhones\": [],\n",
        "        \"DisplayName\": \"John Doe\",\n",
        "        \"GivenName\": \"John\",\n",
        "        \"JobTitle\": null,\n",
        "        \"Mail\": \"john.doe@example.com\",\n",
        "        \"MobilePhone\": null,\n",
        "        \"OfficeLocation\": null,\n",
        "        \"PreferredLanguage\": null,\n",
        "        \"Surname\": \"Doe\",\n",
        "        \"UserPrincipalName\": \"john.doe@example.com\",\n",
        "        \"ResourceID\": \"58dfe22d-043b-1234-4321-098765432123\"\n",
        "    }\n",
        "]\n",
        "\n",
        "# AzureRoleAssignmentsData\n",
        "[\n",
        "    {\n",
        "        \"ResourceName\": \"john.doe@example.com\",\n",
        "        \"ResourceID\": \"58dfe22d-043b-1234-4321-098765432123\",\n",
        "        \"ResourceType\": \"User\",\n",
        "        \"RoleDefinitionID\": \"\\/subscriptions\\/123456qw-5293-8888-1234-85b26be2e9fb\\/providers\\/Microsoft.Authorization\\/roleDefinitions\\/17d1049b-9a84-46fb-8f53-869881c3d3ab\",\n",
        "        \"RoleAssignmentID\": \"\\/subscriptions\\/123456qw-5293-8888-1234-85b26be2e9fb\\/resourceGroups\\/demo-apps\\/providers\\/Microsoft.Storage\\/storageAccounts\\/demoappsdiag\\/providers\\/Microsoft.Authorization\\/roleAssignments\\/b610026b-4f90-4b1f-a1b7-ee61c8a5efda\",\n",
        "        \"RoleName\": \"Storage Account Contributor\",\n",
        "        \"RoleType\": \"BuiltInRole\",\n",
        "        \"RoleDescription\": \"Lets you manage storage accounts, including accessing storage account keys which provide full access to storage account data.\",\n",
        "        \"Scope\": \"\\/subscriptions\\/123456qw-5293-8888-1234-85b26be2e9fb\\/resourceGroups\\/demo-apps\\/providers\\/Microsoft.Storage\\/storageAccounts\\/demoappsdiag\",\n",
        "        \"Permissions\": [\n",
        "            {\n",
        "                \"actions\": [\n",
        "                    \"Microsoft.Authorization\\/*\\/read\",\n",
        "                    \"Microsoft.Insights\\/alertRules\\/*\",\n",
        "                    \"Microsoft.Insights\\/diagnosticSettings\\/*\",\n",
        "                    \"Microsoft.Network\\/virtualNetworks\\/subnets\\/joinViaServiceEndpoint\\/action\",\n",
        "                    \"Microsoft.ResourceHealth\\/availabilityStatuses\\/read\",\n",
        "                    \"Microsoft.Resources\\/deployments\\/*\",\n",
        "                    \"Microsoft.Resources\\/subscriptions\\/resourceGroups\\/read\",\n",
        "                    \"Microsoft.Storage\\/storageAccounts\\/*\",\n",
        "                    \"Microsoft.Support\\/*\"\n",
        "                ],\n",
        "                \"notActions\": [],\n",
        "                \"dataActions\": [],\n",
        "                \"notDataActions\": []\n",
        "            }\n",
        "        ],\n",
        "        \"Condition\": null,\n",
        "        \"ConditionVersion\": null,\n",
        "        \"RoleCreatedOn\": \"2024-07-03T11:45:10.5471442Z\",\n",
        "        \"RoleUpdatedOn\": \"2024-07-03T11:45:10.5471442Z\",\n",
        "        \"RoleCreatedBy\": \"f7b70bab-41e6-4662-8795-69f30ef4c625\",\n",
        "        \"RoleUpdatedBy\": \"f7b70bab-41e6-4662-8795-69f30ef4c625\"\n",
        "    }\n",
        "]"
      ]
    },
    {
      "cell_type": "markdown",
      "metadata": {
        "id": "OMfAqx9AZD-R"
      },
      "source": [
        "# Step 3: Define the Standard Schema\n",
        "\n",
        "    "
      ]
    },
    {
      "cell_type": "code",
      "execution_count": null,
      "metadata": {
        "id": "_iPF3qrHysOc"
      },
      "outputs": [],
      "source": [
        "# AzureBackupStorageAccessUsersList\n",
        "[\n",
        "    {\n",
        "        \"System\": \"azure\",\n",
        "        \"Source\": \"compliancecow\",\n",
        "        \"ResourceID\": \"58dfe22d-043b-1234-4321-098765432123\",\n",
        "        \"ResourceName\": \"john.doe@example.com\",\n",
        "        \"ResourceType\": \"User\",\n",
        "        \"ResourceURL\": \"https://portal.azure.com/#view/Microsoft_AAD_UsersAndTenants/UserProfileMenuBlade/~/overview/userId/58dfe22d-043b-1234-4321-098765432123\",\n",
        "        \"StorageAccount\": \"demoappsdiag\",\n",
        "        \"StorageAccountURL\": \"https://portal.azure.com/#@continube.com/resource/subscriptions/123456qw-5293-8888-1234-85b26be2e9fb/resourceGroups/demoapps/providers/Microsoft.Storage/storageAccounts/demoappsdiag/overview\",\n",
        "        \"Permissions\": \"*\",\n",
        "        \"DataPermissions\": \"\",\n",
        "        \"Scope\": \"/subscriptions/123456qw-5293-8888-1234-85b26be2e9fb\",\n",
        "        \"ValidationStatusCode\": \"WR_AC_ND_RW\",\n",
        "        \"ValidationStatusNotes\": \"Review Required. User has write access to 'demoappsdiag' Storage Account.\",\n",
        "        \"ComplianceStatus\": \"\",\n",
        "        \"ComplianceStatusReason\": \"\",\n",
        "        \"EvaluatedTime\": \"2024-07-05T09:08:53.133613Z\",\n",
        "        \"UserAction\": \"\",\n",
        "        \"ActionStatus\": \"\",\n",
        "        \"ActionResponseURL\": \"\"\n",
        "    }\n",
        "]"
      ]
    },
    {
      "cell_type": "markdown",
      "metadata": {
        "id": "vQQKJKfUabxd"
      },
      "source": [
        "# Step 3.a: Sample Data\n",
        "\n",
        "|System|Source|ResourceID|ResourceName|ResourceType|ResourceURL|StorageAccount|StorageAccountURL|Permissions|DataPermissions|Scope|ValidationStatusCode|ValidationStatusNotes|ComplianceStatus|ComplianceStatusReason|EvaluatedTime|UserAction|ActionStatus|ActionResponseURL|\n",
        "|---|---|---|---|---|---|---|---|---|---|---|---|---|---|---|---|---|---|---|\n",
        "|azure|compliancecow|58dfe22d-043b-1234-4321-098765432123|john.doe@example.com|User|https://portal.azure.com/#view/Microsoft_AAD_UsersAndTenants/UserProfileMenuBlade/~/overview/userId/58dfe22d-043b-1234-4321-098765432123|demoappsdiag|https://portal.azure.com/#@continube.com/resource/subscriptions/123456qw-5293-8888-1234-85b26be2e9fb/resourceGroups/demoapps/providers/Microsoft.Storage/storageAccounts/demoappsdiag/overview|*||/subscriptions/123456qw-5293-8888-1234-85b26be2e9fb|WR_AC_ND_RW|Review Required. User has write access to demoappsdiag Storage Account.|||2024-07-05T09:08:53.133613Z||||\n",
        "|azure|compliancecow|58dfe22d-043b-1234-4321-098765432124|james@example.com|User|https://portal.azure.com/#view/Microsoft_AAD_UsersAndTenants/UserProfileMenuBlade/~/overview/userId/58dfe22d-043b-1234-4321-098765432124|demoappsdiag|https://portal.azure.com/#@continube.com/resource/subscriptions/123456qw-5293-8888-1234-85b26be2e9fb/resourceGroups/demoapps/providers/Microsoft.Storage/storageAccounts/demoappsdiag/overview|*||/subscriptions/123456qw-5293-8888-1234-85b26be2e9fb|WR_N_AC|No review required. User does not have write access to any Backup Storage Account.|||2024-07-05T09:08:53.133613Z||||"
      ]
    },
    {
      "cell_type": "markdown",
      "metadata": {
        "id": "bxsZR5l8SiOd"
      },
      "source": [
        "# Step 4: Describe the Compliance Taxonomy\n",
        "\n",
        "|Validation Status Code|Validation Status Notes|Compliance Status|Compliance Status Reason|\n",
        "|---|---|---|---|\n",
        "|WR_AC_ND_RW| Review Required. User has write access to '{storage_account}' Storage Account.|||\n",
        "|WR_N_AC| No review required. User does not have write access to any Backup Storage Account.|||"
      ]
    },
    {
      "cell_type": "markdown",
      "metadata": {
        "id": "Son7AJzlS0hh"
      },
      "source": [
        "# Step 5: Calculation for Compliance Percentage and Status\n",
        "\n",
        "\n"
      ]
    },
    {
      "cell_type": "code",
      "execution_count": null,
      "metadata": {
        "id": "nZMdcSLnNaQe"
      },
      "outputs": [],
      "source": [
        "# Calculation of Compliance Percentage\n",
        "CompliancePCT = (100 - (Count of 'NON_COMPLIANT' records * 100) / Total records)\n",
        "\n",
        "# Compliance Status\n",
        "COMPLIANT - 100%\n",
        "NON_COMPLIANT - 0%>=status<100%\n",
        "NOT_DETERMINED - If some error occurs."
      ]
    },
    {
      "cell_type": "markdown",
      "metadata": {
        "id": "uVDZ3Jv9TKZx"
      },
      "source": [
        "# Step 6: Describe (in words) the Remediation Steps for Non-Compliance"
      ]
    },
    {
      "cell_type": "markdown",
      "metadata": {
        "id": "IS5_pE75TfxN"
      },
      "source": [
        "FOR NOT_DETERMINED : UNKNOWN\n",
        "\n",
        "FOR COMPLIANT : None\n",
        "\n",
        "For NONCOMPLIANCE:\n",
        "\n",
        "If Compliance Cow needs to notify the client, the following message can be sent via slack or ticket raised in JIRA:\n",
        "\n",
        "Ensure that only the account’s owner can access the backup folders."
      ]
    },
    {
      "cell_type": "markdown",
      "metadata": {
        "id": "trjrGTI6N3wv"
      },
      "source": [
        "# Step 7: Control Setup Details"
      ]
    },
    {
      "cell_type": "markdown",
      "metadata": {
        "id": "IHKtasdRN6-V"
      },
      "source": [
        "| Control Details            |                                               |\n",
        "|----------------------------|-----------------------------------------------|\n",
        "| **RuleName**               | GenerateAzureBackupStorageAccessUsersList     |\n",
        "| **PreRequisiteRuleNames**  |                                               |\n",
        "| **ExtendedSchemaRuleNames**|                                               |\n",
        "| **ApplicationClassName**   | azureappconnector                             |"
      ]
    }
  ],
  "metadata": {
    "colab": {
      "provenance": []
    },
    "kernelspec": {
      "display_name": "Python 3",
      "name": "python3"
    },
    "language_info": {
      "name": "python"
    }
  },
  "nbformat": 4,
  "nbformat_minor": 0
}
