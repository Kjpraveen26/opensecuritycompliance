{
  "cells": [
    {
      "cell_type": "markdown",
      "metadata": {
        "id": "sFlmicb0Mlse"
      },
      "source": [
        "# Step 1: Evidence Details\n",
        "\n",
        "\n",
        "|Evidence name|System|Source of data|Frameworks|Purpose|\n",
        "|---|---|---|---|---|\n",
        "|AzMFAforRBAC|Azure|CustomRule|Custom CC Policy|Ensure MFA is Enforced for RBAC|\n",
        "|AzMFAforADRoles|Azure|CustomRule|Custom CC Policy|Ensure MFA is Enforced for roles|\n",
        "\n",
        "\n",
        "\n",
        "```\n",
        "\n",
        "Purpose\n",
        "The rule checks if the azure users have mfa enabled for added security\n",
        "\n",
        "\n",
        "Recommended Evidence Name\n",
        "AzureADMFAEnabled\n",
        "\n",
        "```"
      ]
    },
    {
      "cell_type": "markdown",
      "metadata": {
        "id": "HwaAN4PWRC-_"
      },
      "source": [
        "# Step 2: Define the System Specific Data (a.k.a Extended Data Schema)\n",
        "\n",
        "---\n",
        "Using user auth data: https://graph.microsoft.com/beta/reports/credentialUserRegistrationDetails\n"
      ]
    },
    {
      "cell_type": "code",
      "execution_count": null,
      "metadata": {
        "colab": {
          "base_uri": "https://localhost:8080/"
        },
        "id": "806DY6lcLpgH",
        "outputId": "c61c603e-83fb-4ac9-f387-3da1489e4341"
      },
      "outputs": [],
      "source": [
        "# User auth data\n",
        "\n",
        "[\n",
        "    {\n",
        "        \"AuthMethods\": \"Password\",\n",
        "        \"Id\": \"123456789\",\n",
        "        \"IsCapable\": \"True\",\n",
        "        \"IsEnabled\": \"True\",\n",
        "        \"IsMfaRegistered\": \"False\",\n",
        "        \"IsRegistered\": \"2023-01-15T08:30:00Z\",\n",
        "        \"UserDisplayName\": \"John Doe\",\n",
        "        \"UserPrincipalName\": \"john.doe@example.com\"\n",
        "    }\n",
        "]\n",
        "\n",
        "\n",
        "\n"
      ]
    },
    {
      "cell_type": "markdown",
      "metadata": {
        "id": "ouhtS-H1SHbX"
      },
      "source": [
        "# Step 3: Define the Standard Schema\n",
        "\n",
        "The Evidences above are validating wether MFA is Enforced on the resources wether in AWS or AZURE.in our standard Schema we will have a common structure and in the we will have extended schema with different column values for AWS and Azure."
      ]
    },
    {
      "cell_type": "code",
      "execution_count": null,
      "metadata": {
        "id": "Y96rO3Nb2Yjo"
      },
      "outputs": [],
      "source": [
        "#Standard Schema\n",
        "[\n",
        "\t{\n",
        "  #Meta\n",
        "  \"System\": \"azure\",\n",
        "    \"Source\": \"compliancecow\",\n",
        "    \"ResourceId\": \"/subscriptions/12345678/resourceGroups/exampleRG/providers/Microsoft.Compute/virtualMachines/exampleVM\",\n",
        "    \"ResourceType\": \"Member\",\n",
        "    \"ResourceName\": \"exampleVM\",\n",
        "    \"ResourceUrl\": \"https://example.com/subscriptions/12345678/resourceGroups/exampleRG/providers/Microsoft.Compute/virtualMachines/exampleVM\"\n",
        "  # Data/Infered ComplianceCheck Field\n",
        "  \"MFAEnforced\":\"True\",\n",
        "\n",
        "  #Compliance Details\n",
        "    \"ComplianceStatus\":\"COMPLIANT\",# COMPLIANT/NON_COMPLIANT/NOT_DETERMINED\n",
        "\t\t\"ComplianceStatusReason\":\"MFA Enforced\"\n",
        "    \"ValidationStatusCode\":\"MFA_ENFORCED\" ,\n",
        "\t\t\"EvaluatedTime\":\"\",\n",
        "    # \"RelatedEvidenceLink\":\"\" ,#Extended Schema record Link\n",
        "\t\t#Editable Data\n",
        "    \"Action\":\"\",\n",
        "    #Tags\n",
        "    \"Tags\": [],\n",
        "\n",
        "\t\t}\n",
        " #EXTENDED SCHEMA\n",
        "Extended scheam for azure we can use both AzMFAforADRoles,AzMFAforRBAC columns. and for aws we will use \"AWS MFA Report\" schema\n",
        "\n",
        "\n",
        "]"
      ]
    },
    {
      "cell_type": "markdown",
      "metadata": {
        "id": "GNImLCbuiawo"
      },
      "source": [
        "# Step 3.a: Sample Data\n",
        "\n",
        "| System | Source       | ResourceId          | ResourceType | ResourceName   | ResourceUrl | MFAEnforced | ComplianceStatus | ComplianceStatusReason | ValidationStatusCode | EvaluatedTime | Action | Tags |\n",
        "| ------ | ------------ | ------------------- | ------------ | --------------- | ----------- | ----------- | ----------------- | ---------------------- | -------------------- | ------------- | ------ | ---- |\n",
        "| azure  | compliancecow | NewResourceId1   | Member       | Name1   |             | True        | COMPLIANT        | MFA Enforced          | MFA_ENFORCED          |               |        |      |\n",
        "| azure  | compliancecow | NewResourceId2   | Member    | Name2      |                          | False       | NON_COMPLIANT   | MFA NotEnforced       | MFA_NOT_ENFORCED    | |        |      |\n",
        "| azure  | compliancecow | NewResourceId3   | Member    | Name3      |                       | False       | NON_COMPLIANT  | MFA NotEnforced       | MFA_NOT_ENFORCED    |  |        |      |\n",
        "| azure  | compliancecow | NewResourceId4   | Member    | Name4      |                        | --          | NOT_DETERMINED | MFAFieldValueMissing | MFA_FIELD_VALUE_MISSING    |  |        |      |\n"
      ]
    },
    {
      "cell_type": "markdown",
      "metadata": {
        "id": "bxsZR5l8SiOd"
      },
      "source": [
        "# Step 4: Describe the Compliance Taxonomy\n",
        "\n",
        "\n",
        "|CompliantStatus  |ValidationStatusCode|ComplianceStatusReason|ValidationStatusNotes|\n",
        "|------------|:--------------|:--------------|----------|\n",
        "|COMPLIANCT|MFA_ENFORCED|MFA is enforced for the user|No actions required|\n",
        "|NON_COMPLIANT|MFA_NOT_ENFORCED|MFA is not enforced for Active Directory (AD) users|MFA Should be enforced|\n",
        "\n"
      ]
    },
    {
      "cell_type": "markdown",
      "metadata": {
        "id": "3Td93O7WSX26"
      },
      "source": [
        "# Step 5: Calculation for Compliance Percentage and Status\n",
        "\n"
      ]
    },
    {
      "cell_type": "code",
      "execution_count": null,
      "metadata": {},
      "outputs": [],
      "source": [
        "# COMPLIANT/(COMPLIANT+NON_COMPLIANT+NOT_DETERMINED)\n",
        "if \"MFAEnforced\" in row and row[\"MFAEnforced\"] == True:\n",
        "            compliance_status = \"COMPLIANT\"\n",
        "            compliance_status_code = \"MFA_ENFORCED\"\n",
        "            compliance_status_reason = \"MFA is enforced for the user\"\n",
        "            validation_status_notes = \"No actions required\"\n",
        "\n",
        "        else:\n",
        "            compliance_status = \"NON_COMPLIANT\"\n",
        "            compliance_status_code = \"MFA_NOT_ENFORCED\"\n",
        "            compliance_status_reason = \"MFA is not enforced for Active Directory (AD) users\"\n",
        "            validation_status_notes = \"MFA Should be enforced\"\n",
        "\n",
        "        evaluated_time = datetime.now()  # Current time\n",
        "\n",
        "        action = \"\"\n",
        "        tags = []\n",
        "        return pd.Series(\n",
        "            [\n",
        "                compliance_status,\n",
        "                compliance_status_code,\n",
        "                compliance_status_reason,\n",
        "                validation_status_notes,\n",
        "                evaluated_time,\n",
        "                action,\n",
        "                tags,\n",
        "            ]\n",
        "        )"
      ]
    },
    {
      "cell_type": "markdown",
      "metadata": {
        "id": "uVDZ3Jv9TKZx"
      },
      "source": [
        "# Step 6: Describe (in words) the Remediation Steps for Non-Compliance\n",
        "\n",
        "\n",
        "\n",
        "\n",
        "\n",
        "Enable MFA For Azure, Refer the doc: https://learn.microsoft.com/en-us/azure/security/fundamentals/identity-management-best-practices#enforce-multi-factor-verification-for-users\n",
        "\n"
      ]
    },
    {
      "cell_type": "markdown",
      "metadata": {},
      "source": [
        "\n",
        "\n",
        "\n",
        "\n",
        "## Step 7. Control Setup Details\n",
        "\n",
        "| Control Details            |                                               |\n",
        "|----------------------------|-----------------------------------------------|\n",
        "| **RuleName**               | AzureMFAEnabledForADUsers                     |\n",
        "| **PreRequisiteRuleNames**  | AzureUsersAuthData                            |\n",
        "| **ExtendedSchemaRuleNames**| AzureUsersAuthData                            |\n",
        "| **ApplicationClassName**   | azureappconnector                             |"
      ]
    }
  ],
  "metadata": {
    "colab": {
      "provenance": []
    },
    "kernelspec": {
      "display_name": "Python 3",
      "name": "python3"
    },
    "language_info": {
      "name": "python"
    }
  },
  "nbformat": 4,
  "nbformat_minor": 0
}
