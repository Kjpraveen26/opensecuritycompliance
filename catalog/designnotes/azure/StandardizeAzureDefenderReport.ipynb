{
  "cells": [
    {
      "cell_type": "markdown",
      "metadata": {
        "id": "sFlmicb0Mlse"
      },
      "source": [
        "# Step 1: Evidence Details\n",
        "|Evidence name|System|Source of data|Frameworks|Purpose|\n",
        "|---|---|---|---|---|\n",
        "|AzureDefenderReport|Azure Defender|Azure |AzurePolicy|Get azure defender report and standardize it.|\n",
        "\n",
        "```\n",
        "Purpose:\n",
        "Get azure defender report and standardize it.\n",
        "\n",
        "RecomendedEvidenceName: AzureDefenderReport\n",
        "```\n",
        "\n",
        "\n",
        "\n"
      ]
    },
    {
      "cell_type": "markdown",
      "metadata": {
        "id": "HwaAN4PWRC-_"
      },
      "source": [
        "# Step 2: Define the System Specific Data (a.k.a Extended Data Schema)\n",
        "\n",
        "---"
      ]
    },
    {
      "cell_type": "code",
      "execution_count": null,
      "metadata": {
        "cellView": "code",
        "id": "_8Jt_GAzLwKQ"
      },
      "outputs": [],
      "source": [
        "##@title # System Specific Schema / Extended Schema\n",
        "#@markdown ## Describe the plugins that bring the data. This can be native to the system and/or the source of data\n",
        "\n",
        "#EvidenceColumns\n",
        "[\n",
        "   {\n",
        "        \"Type\": \"Microsoft.Security/assessments\",\n",
        "        \"ID\": \"/subscriptions/3b2b257e-a6d5-4e89-aee8-8ab9a32b8a4e/providers/Microsoft.Security/assessments/b1af52e4-e968-4e2b-b6d0-6736c9651f0a\",\n",
        "        \"Name\": \"b1af52e4-e968-4e2b-b6d0-6736c9651f0a\",\n",
        "        \"Properties\": {\n",
        "            \"ResourceDetails\": {\n",
        "                \"Source\": \"Azure\",\n",
        "                \"ID\": \"/subscriptions/3b2b257e-a6d5-4e89-aee8-8ab9a32b8a4e\"\n",
        "            },\n",
        "            \"DisplayName\": \"Microsoft Defender for Key Vault should be enabled\",\n",
        "            \"Status\": {\n",
        "                \"Code\": \"Unhealthy\",\n",
        "                \"Cause\": \"\",\n",
        "                \"Description\": \"\"\n",
        "            },\n",
        "            \"AdditionalData\": null\n",
        "        }\n",
        "    }\n",
        "]\n"
      ]
    },
    {
      "cell_type": "markdown",
      "metadata": {
        "id": "xWXwl_8T5uZj"
      },
      "source": [
        "<!-- # 2.2 Fetch Valut List -->\n",
        "\n",
        "<!-- https://management.azure.com/subscriptions/{sub_id}/resources?$filter=resourceType eq 'Microsoft.KeyVault/vaults'&api-version=2015-11-01 -->\n",
        "\n",
        "\n",
        "<!-- # Fetch data of each vault -->\n",
        "<!-- https://management.azure.com/subscriptions/{sub_id}/resourceGroups/bot-resource-group/providers/Microsoft.KeyVault/vaults/bot-secrets-exfboz?api-version=2022-07-01 -->\n",
        "\n",
        "\n",
        "\n"
      ]
    },
    {
      "cell_type": "markdown",
      "metadata": {},
      "source": [
        "# Step 3: Define the Standard Schema"
      ]
    },
    {
      "cell_type": "code",
      "execution_count": null,
      "metadata": {
        "id": "ISKNgDzsHQZ-"
      },
      "outputs": [],
      "source": [
        "#@title #Step 3: Define the Standard Schema\n",
        "\n",
        "{\n",
        "  #Meta: Please note that the system name is all in LOWER CASE\n",
        "  \"System\": \"azure\",\n",
        "  \"Source\": \"azure_policy\",\n",
        "\n",
        "  #Resource info\n",
        "\n",
        "  #ResourceId obtained from API Output's ID field\n",
        "  \"ResourceID\": \"/subscriptions/3b2b257e-a6d5-4e89-aee8-8ab9a32b8a4e/providers/Microsoft.Security/assessments/8yrf52e4-e968-4e2b-b6d0-6736c9651f0a\",\n",
        "  \"ResourceName\": \"8yrf52e4-e968-4e2b-b6d0-6736c9651f0a\",\n",
        "  \"ResourceType\": \"/Microsoft.Security/assessments\",\n",
        "  \"ResourceLocation\": \"westus2\",\n",
        "  \"ResourceTags\": \"\",\n",
        "\n",
        "  \"RuleDisplayName\": \"Azure DDoS Protection Standard should be enabled\",\n",
        "\n",
        "  #Compliance details\n",
        "  \"ValidationStatusCode\": \"KEY_VAULT_DISABLED\",\n",
        "  \"ValidationStatusNotes\": \"Microsoft Defender for Key Vault should be enabled\",\n",
        "  \"ComplianceStatus\": \"NON_COMPLIANT\",\n",
        "  \"ComplianceStatusReason\": \"Record not compliant as Azure Defender disabled in Key Vault\",\n",
        "  \"EvaluatedTime\": \"2024-08-01T10:26:04.012460Z\", \n",
        "\n",
        "  # User editable data\n",
        "  \"UserAction\": \"\", #[\"\", \"\"]\n",
        "\n",
        "  # Action editable data\n",
        "  \"ActionStatus\": \"\",\n",
        "  \"ActionResponseURL\": \"https://something.something\" # This contains the URL populated by the action, if any, such as the JIRA ticket URL\n",
        "}"
      ]
    },
    {
      "cell_type": "markdown",
      "metadata": {
        "id": "AMpTHeeL4ZEb"
      },
      "source": [
        "# Step 3.a: Sample Data\n",
        "\n",
        "|System|Source|ResourceID|ResourceName|ResourceType|ResourceLocation|ResourceTags|ValidationStatusCode|ValidationStatusNotes|ComplianceStatus|ComplianceStatusReason|EvaluatedTime|UserAction|ActionStatus|ActionResponseURL|\n",
        "|---|---|---|---|---|---|---|---|---|---|---|---|---|---|---|\n",
        "|azure|azure_policy|/subscriptions/3b2b257e-a6d5-4e89-aee8-8ab9a32b8a4e/providers/Microsoft.Security/assessments/8yrf52e4-e968-4e2b-b6d0-6736c9651f0a|b1af52e4-e968-4e2b-b6d0-6736c9651f0a|/Microsoft.Security/assessments|westus2||KEY_VAULT_DISABLED|Azure Defender disabled in Key Vault|NON_COMPLIANT|Record not compliant as Azure Defender disabled in Key Vault|1705860950858|||https://something.something|"
      ]
    },
    {
      "cell_type": "markdown",
      "metadata": {
        "id": "JgN9Go66jTtC"
      },
      "source": [
        "# Step 4: Describe the Compliance Taxonomy\n",
        "\n",
        "The compliance taxonomy changes based on the ControlName field, from the ControlConfig.json, which can be found inside catalog/globalcatalog/rules/StandardizeAzureDefenderReport/RuleConfig.json.\n",
        "\n",
        "The below table contains the taxonomy for the RuleDisplayName: Microsoft Defender for Key Vault should be enabled\n",
        "\n",
        "|ValidationStatusCode|ValidationStatusNotes|ComplianceStatus|ComplianceStatusReason|\n",
        "|---|---|---|---|\n",
        "|KEY_VAULT_ENABLED|Azure Defender enabled in Key Vault|COMPLIANT|Record compliant as Azure Defender enabled in Key Vault|\n",
        "|KEY_VAULT_DISABLED|Azure Defender disabled in Key Vault|NON_COMPLIANT|Record not compliant as Azure Defender disabled in Key Vault|"
      ]
    },
    {
      "cell_type": "markdown",
      "metadata": {
        "id": "Son7AJzlS0hh"
      },
      "source": [
        "# Step 5: Calculation for Compliance Percentage and Status"
      ]
    },
    {
      "cell_type": "code",
      "execution_count": null,
      "metadata": {},
      "outputs": [],
      "source": [
        "# Calculation of Compliance Percentage\n",
        "Compliance Percentage = (Count of 'COMPLIANT' records/Total records)*100\n",
        "\n",
        "# Compliance Status \n",
        "COMPLIANT - 100%\n",
        "NON_COMPLIANT - 0%<=status<100%\n",
        "NOT_DETERMINED - If no resources are found in the account\n"
      ]
    },
    {
      "cell_type": "markdown",
      "metadata": {
        "id": "uVDZ3Jv9TKZx"
      },
      "source": [
        "# Step 6: Describe (in words) the Remediation Steps for Non-Compliance\n",
        "\n",
        "1. CreateJiraTicket\n",
        "2. NotifyBySlackChannel"
      ]
    },
    {
      "cell_type": "markdown",
      "metadata": {
        "id": "_4FdgSQH7mXE"
      },
      "source": [
        "# Step 7. Control Setup Details\n",
        "\n",
        "\n",
        "| Control Details               |                                  |\n",
        "|-------------------------------|----------------------------------|\n",
        "| **RuleName**                  | StandardizeAzureDefenderReport   |\n",
        "| **PreRequisiteRuleNames**     | MicrosoftDefender                |\n",
        "| **ExtendedSchemaRuleNames**   | N/A                              |\n",
        "| **ApplicationClassName**      | azureappconnector                |\n"
      ]
    }
  ],
  "metadata": {
    "colab": {
      "provenance": []
    },
    "kernelspec": {
      "display_name": "Python 3",
      "name": "python3"
    },
    "language_info": {
      "codemirror_mode": {
        "name": "ipython",
        "version": 3
      },
      "file_extension": ".py",
      "mimetype": "text/x-python",
      "name": "python",
      "nbconvert_exporter": "python",
      "pygments_lexer": "ipython3",
      "version": "3.11.6"
    }
  },
  "nbformat": 4,
  "nbformat_minor": 0
}
