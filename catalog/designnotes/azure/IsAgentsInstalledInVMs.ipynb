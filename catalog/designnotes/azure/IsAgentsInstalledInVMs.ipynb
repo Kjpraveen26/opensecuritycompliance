{
  "cells": [
    {
      "cell_type": "markdown",
      "metadata": {
        "id": "sFlmicb0Mlse"
      },
      "source": [
        "# Step 1: Evidence Details\n",
        "\n",
        "\n",
        "|Evidence name|Original name|System|Source of data|Frameworks|Purpose|\n",
        "|---|:---|:---|:---|:---|:--------|\n",
        "|loganalyticsagentforvmmonitoring|installloganalyticsagentonvmssmonitoring|Azure|Azure Virtual Machines Extensions Data|Virtual Machines|Ensure Log Analytics agent is installed on your virtual machine for Azure Security Center monitoring|\n",
        "\n",
        "\n",
        "```\n",
        " Purpose: This policy audits any Windows/Linux virtual machines (VMs) if the Log Analytics agent is not installed which Security Center uses to monitor for security vulnerabilities and threats. When the Log Analytics agent is connected to a workspace, heartbeat data is collected by default.\n",
        "With Log Analytics agent the following logs can be collected - Windows Event logs, Syslog, Performance(Numerical values measuring performance of different aspects of operating system and workloads), IIS logs and Custom logs.\n",
        "\n",
        "**Note** : The legacy Log Analytics agent will be deprecated by August 2024. After this date, Microsoft will no longer provide any support for the Log Analytics agent. All systems should migrate to Azure Monitor agent before August 2024 to continue ingesting data.\n",
        "\n",
        "\n",
        "```"
      ]
    },
    {
      "cell_type": "markdown",
      "metadata": {
        "id": "HwaAN4PWRC-_"
      },
      "source": [
        "# Step 2: Define the System Specific Data (a.k.a Extended Data Schema)"
      ]
    },
    {
      "cell_type": "code",
      "execution_count": null,
      "metadata": {
        "id": "SOqwfJhSNobl"
      },
      "outputs": [],
      "source": [
        "#Extended Schema\n",
        "{\n",
        "    \"Id\": \"/subscriptions/sub_id/resourceGroups/exampleResourceGroup/providers/Microsoft.Compute/virtualMachines/exampleVM\",\n",
        "    \"Name\": \"exampleVM\",\n",
        "    \"PropertiesStorageProfileOsDiskOsType\": \"Windows\",\n",
        "    \"Values\": [\n",
        "        {\n",
        "            \"name\": \"exampleExtension\",\n",
        "            \"id\": \"/subscriptions/sub_id/resourceGroups/exampleResourceGroup/providers/Microsoft.Compute/virtualMachines/exampleVM/extensions/exampleExtension\",\n",
        "            \"type\": \"Microsoft.Compute/virtualMachines/extensions\",\n",
        "            \"location\": \"westus2\",\n",
        "            \"properties\": {\n",
        "                \"autoUpgradeMinorVersion\": true,\n",
        "                \"provisioningState\": \"Failed\",\n",
        "                \"publisher\": \"Microsoft.Azure.ActiveDirectory\",\n",
        "                \"type\": \"AADSSHLoginForLinux\",\n",
        "                \"typeHandlerVersion\": \"1.0\"\n",
        "            }\n",
        "        }\n",
        "    ]\n",
        "}\n"
      ]
    },
    {
      "cell_type": "markdown",
      "metadata": {
        "id": "OMfAqx9AZD-R"
      },
      "source": [
        "# Step 3: Define the Standard Schema\n",
        "\n",
        "  "
      ]
    },
    {
      "cell_type": "code",
      "execution_count": null,
      "metadata": {
        "id": "0dPeNLZuSJcH"
      },
      "outputs": [],
      "source": [
        "#standard schema\n",
        "{\n",
        "    \"System\": \"azure\",\n",
        "    \"Source\": \"compliancecow\",\n",
        "    \"ResourceId\": \"/subscriptions/sub_id/resourceGroups/exampleResourceGroup/providers/Microsoft.Compute/virtualMachines/exampleVM\",\n",
        "    \"ResourceType\": \"Virtual Machines\",\n",
        "    \"ResourceName\": \"exampleVM\",\n",
        "    \"AgentInstalledInVM\": false,\n",
        "    \"ComplianceStatus\": \"NON_COMPLIANT\",\n",
        "    \"ValidationStatusCode\": \"DEPENDENCY_AGENT_NOT_INSTALLED_IN_LINUX_VM\",\n",
        "    \"ComplianceStatusReason\": \"Dependency Agent Not Installed In Linux VM\",\n",
        "    \"ValidationStatusNotes\": \"Install Dependency Agent in the Linux VM To Ensure Compliancy\",\n",
        "    \"EvaluatedTime\": \"2023-12-18 11:56:26.940263\",\n",
        "    \"Action\": \"\",\n",
        "    \"Tags\": []\n",
        "}\n"
      ]
    },
    {
      "cell_type": "markdown",
      "metadata": {
        "id": "CJAzX9cZxQbv"
      },
      "source": [
        "# Step 3.a: Sample Data\n",
        "\n",
        "| System | Source | ResourceId | ResourceName | ResourceGroup | ResourceType | ResourceLocation | ComplianceStatus | ComplianceStatusReason | ValidationStatusCode | ValidationStatusNotes | EvaluationTime | Tags | UserAction | ActionResponseURL |\n",
        "|:------|:------|:------|:------|:------|:------|:------|:------|:------|:------|:------|:------|:------|:------|:------|\n",
        "| azure | azure_policy | /subscriptions/12345678/resourcegroups/example/providers/microsoft.compute/virtualmachines/exampleVM | exampleVM | exampleResourceGroup | Microsoft.Compute/virtualMachine | westus2 | NON COMPLIANT | Log Analytics agent is not installed | OMS_EXT_NOT_INSTALLED | OmsAgentForLinux extension is not found | 2023-08-31T00:02:08.7806403Z | | | https://something.something |\n",
        "| azure | azure_policy | /subscriptions/87654321/resourcegroups/example/providers/microsoft.compute/virtualmachines/anotherVM | anotherVM | exampleResourceGroup | Microsoft.Compute/virtualMachine | westus2 | NON COMPLIANT | Log Analytics agent is not installed | OMS_EXT_NOT_INSTALLED | OmsAgentForLinux extension is not found | 2023-08-31T00:02:09.2887781Z | | | https://something.something |\n",
        "| azure | azure_policy | /subscriptions/99999999/resourcegroups/company-demo-apps/providers/microsoft.compute/virtualmachines/demoVM | demoVM | company-demo-apps | Microsoft.Compute/virtualMachine | westus2 | NON COMPLIANT | Log Analytics agent is not installed | OMS_EXT_NOT_INSTALLED | OmsAgentForLinux extension is not found | 2023-08-31T00:02:09.2887781Z | | | https://something.something |\n",
        "| azure | azure_policy | /subscriptions/77777777/resourcegroups/internal/providers/microsoft.compute/virtualmachines/build-server | build-server | internal | Microsoft.Compute/virtualMachine | westus2 | NON COMPLIANT | Log Analytics agent is not installed | OMS_EXT_NOT_INSTALLED | OmsAgentForLinux extension is not found | 2023-08-31T00:02:06.3480622Z | | | https://something.something |\n",
        "| azure | azure_policy | /subscriptions/55555555/resourcegroups/project/providers/microsoft.compute/virtualmachines/wordpress | wordpress | project | Microsoft.Compute/virtualMachine | westus2 | NON COMPLIANT | Log Analytics agent is not installed | OMS_EXT_NOT_INSTALLED | OmsAgentForLinux extension is not found | 2023-08-31T00:02:08.7806403Z | | | https://something.something |\n"
      ]
    },
    {
      "cell_type": "markdown",
      "metadata": {
        "id": "JgN9Go66jTtC"
      },
      "source": [
        "# Step 4: Describe the Compliance Taxonomy\n",
        "\n",
        "The Compliance Cow's ComplianceStatus is determined from CC ValidationStatusCode field\n",
        "\n",
        "|For Windows VM|\n",
        "|:--------------|\n",
        "\n",
        "|CC ValidationStatusCode |CC Compliance Reason | CC Compliance Status|\n",
        "|-------------------- | :--------------------| :--------------------|\n",
        "|MMA_EXT_INSTALLED|Log Analytics agent is installed|COMPLIANT|\n",
        "|MMA_EXT_NOT_INSTALLED|Log Analytics agent is not installed|NON_COMPLIANT|\n",
        "|MMA_EXT_STATUS_UNKNOWN|Could not determine installation status of Log Analytics agent|NON DETERMINED|\n",
        "\n",
        "|For Linux VM|\n",
        "|:--------------|\n",
        "\n",
        "|CC ValidationStatusCode |CC Compliance Reason | CC Compliance Status|\n",
        "|-------------------- | :--------------------| :--------------------|\n",
        "|OMS_EXT_INSTALLED|Log Analytics agent is installed|COMPLIANT|\n",
        "|OMS_EXT_NOT_INSTALLED|Log Analytics agent is not installed|NON_COMPLIANT|\n",
        "|OMS_EXT_STATUS_UNKNOWN|Could not determine installation status of Log Analytics agent|NON DETERMINED|."
      ]
    },
    {
      "cell_type": "markdown",
      "metadata": {},
      "source": [
        "# Step 5: Calculation for Compliance Percentage and Status"
      ]
    },
    {
      "cell_type": "code",
      "execution_count": null,
      "metadata": {},
      "outputs": [],
      "source": [
        "## For each control\n",
        "# Refer Step 6 to determine if the assessment for the leaf control was compliant or non-compliant. The compliance percentage is 100% if the assessment was compliant and 0% otherwise\n",
        "\n",
        "# ## For overall assessment\n",
        "# Existing calculation will be used\n",
        "\n",
        "# **Method suggested by Azure**\n",
        "\n",
        "#  Refer - https://learn.microsoft.com/en-us/azure/governance/policy/concepts/compliance-states\n",
        "\n",
        "# overall compliance % = (compliant + exempt + unknown)  / (compliant + exempt + unknown + non-compliant + conflicting + error)\n",
        "\n",
        "is_agent_installed_in_vm = False\n",
        "\n",
        "if row[\"Values\"] and isinstance(row[\"Values\"], list):\n",
        "    for item in row[\"Values\"]:\n",
        "        properties = item.get(\"properties\")\n",
        "        if properties:\n",
        "            agent_type = properties.get(\"type\")\n",
        "            if vals.get(\"AgentType\") == agent_type:\n",
        "                is_agent_installed_in_vm = True\n",
        "                break\n",
        "\n",
        "compliance_status = \"COMPLIANT\" if is_agent_installed_in_vm else \"NON_COMPLIANT\""
      ]
    },
    {
      "cell_type": "markdown",
      "metadata": {
        "id": "uVDZ3Jv9TKZx"
      },
      "source": [
        "# Step 6: Describe (in words) the Remediation Steps for Non-Compliance\n",
        "\n",
        "FOR NOT_DETERMINED : NONE\n",
        "\n",
        "FOR COMPLIANT : None\n",
        "\n",
        "For NONCOMPLAINCE:\n",
        "\n",
        "If Compliance Cow needs to notify the client, the following message can be sent via slack or ticket raised in JIRA:\n",
        "\n",
        "To install Log Analytics Agent for Linux VMs, follow the detailed instructions at :\n",
        "https://learn.microsoft.com/en-us/azure/azure-monitor/agents/agent-linux?tabs=wrapper-script\n",
        "\n",
        "To install Log Analytics Agent for Linux VMs, follow the detailed instructions at :\n",
        "https://learn.microsoft.com/en-us/azure/azure-monitor/agents/agent-windows?tabs=setup-wizard"
      ]
    },
    {
      "cell_type": "markdown",
      "metadata": {},
      "source": [
        "## Step 7. Control Setup Details\n",
        "\n",
        "| Control Details            |                                               |\n",
        "|----------------------------|-----------------------------------------------|\n",
        "| **RuleName**               | IsAgentsInstalledInVMs                        |\n",
        "| **PreRequisiteRuleNames**  | AzureVirtualMachinesData                      |\n",
        "| **ExtendedSchemaRuleNames**| AzureVirtualMachinesData                      |\n",
        "| **ApplicationClassName**   | azureappconnector                             |\n"
      ]
    }
  ],
  "metadata": {
    "colab": {
      "provenance": []
    },
    "kernelspec": {
      "display_name": "Python 3",
      "name": "python3"
    },
    "language_info": {
      "name": "python"
    }
  },
  "nbformat": 4,
  "nbformat_minor": 0
}
