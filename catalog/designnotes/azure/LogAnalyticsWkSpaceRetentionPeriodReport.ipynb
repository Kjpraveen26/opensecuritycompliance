{
  "cells": [
    {
      "cell_type": "markdown",
      "metadata": {
        "id": "sFlmicb0Mlse"
      },
      "source": [
        "# Step 1: Evidence Details\n",
        "\n",
        "|Evidence Name|Current Evidence name|System|Source of data|Frameworks|Purpose|\n",
        "|---|:---|:---|:---|:---|:---|\n",
        "|LogAnalyticsWkSpaceRetentionPeriodReport|AzureLAWReport|Azure|compliancecow |Log Analytics workspaces|Ensure the Log Analytics Workspace's default interactive data retention period is set to the user-specified duration|\n",
        "\n",
        "\n",
        "\n",
        "\n",
        "```\n",
        "\n",
        "Purpose: Ensure the Log Analytics Workspace's default interactive data retention period is set to the user-specified duration\n",
        "\n",
        "**NOTE**: By default, all tables in your workspace inherit the workspace's interactive retention setting and have no archive. We cannot configure archive period for a workspace. We can modify the retention and archive settings of individual tables, except for workspaces in the legacy Free Trial pricing tier. See: https://learn.microsoft.com/en-us/azure/azure-monitor/logs/data-retention-archive?tabs=portal-1%2Cportal-2\n",
        "\n",
        "RecomendedEvidenceName: LogAnalyticsWkSpaceRetentionPeriodReport\n",
        "```\n",
        "\n"
      ]
    },
    {
      "cell_type": "markdown",
      "metadata": {},
      "source": [
        "# Step 2: Define the System Specific Data (a.k.a Extended Data Schema)"
      ]
    },
    {
      "cell_type": "code",
      "execution_count": null,
      "metadata": {
        "id": "_8Jt_GAzLwKQ"
      },
      "outputs": [],
      "source": [
        "#@title \n",
        "\n",
        "[\n",
        "    {\n",
        "        \"PropertiesCustomerId\": \"033bebd1-7cd7-4612-a842-bdb247dd8cbf\",\n",
        "        \"PropertiesProvisioningState\": \"Succeeded\",\n",
        "        \"PropertiesSku\": {\n",
        "            \"name\": \"PerGB2018\",\n",
        "            \"lastSkuUpdate\": \"2023-12-15T12:45:12.0449886Z\"\n",
        "        },\n",
        "        \"PropertiesRetentionInDays\": 30,\n",
        "        \"PropertiesFeatures\": {\n",
        "            \"legacy\": 0,\n",
        "            \"searchVersion\": 1,\n",
        "            \"enableLogAccessUsingOnlyResourcePermissions\": true\n",
        "        },\n",
        "        \"PropertiesWorkspaceCapping\": {\n",
        "            \"dailyQuotaGb\": -1.0,\n",
        "            \"quotaNextResetTime\": \"2023-12-16T11:00:00Z\",\n",
        "            \"dataIngestionStatus\": \"RespectQuota\"\n",
        "        },\n",
        "        \"PropertiesPublietworkAccessForIngestion\": \"Enabled\",\n",
        "        \"PropertiesPublietworkAccessForQuery\": \"Enabled\",\n",
        "        \"PropertiesCreatedDate\": \"2023-12-15T12:45:12.0449886Z\",\n",
        "        \"PropertiesModifiedDate\": \"2023-12-15T12:45:14.4649038Z\",\n",
        "        \"Location\": \"westus2\",\n",
        "        \"ResourceID\": \"/subscriptions/3b2b257e-a6d5-4e89-aee8-8ab9a32b8a4e/resourceGroups/DefaultResourceGroup/providers/Microsoft.OperationalInsights/workspaces/DefaultWorkspace-3b2b257e-a6d5-4e89-aee8-8ab9a32b8a4e-US\",\n",
        "        \"Name\": \"DefaultWorkspace-3b2b257e-a6d5-4e89-aee8-8ab9a32b8a4e-US\",\n",
        "        \"Type\": \"Microsoft.OperationalInsights/workspaces\",\n",
        "        \"Etag\": \"\\\"33002558-0000-0500-0000-657c4a5a0000\\\"\"\n",
        "    }\n",
        "]"
      ]
    },
    {
      "cell_type": "markdown",
      "metadata": {},
      "source": [
        " # Step 3: Define the Standard Schema"
      ]
    },
    {
      "cell_type": "code",
      "execution_count": null,
      "metadata": {
        "id": "ISKNgDzsHQZ-"
      },
      "outputs": [],
      "source": [
        "#@title\n",
        "\n",
        "{\n",
        "  #Meta: Please note that the system name is all in LOWER CASE\n",
        "  \"System\" : \"azure\",\n",
        "  \"Source\" : \"compliancecow\",\n",
        "\n",
        "  #Resource info\n",
        "\n",
        "  #ResourceId obtained from API Output's ID field\n",
        "  \"ResourceId\" : \"/subscriptions/3b2b257e-a6d5-4e89-aee8-8ab9a32b8a4e/resourceGroups/DefaultResourceGroup/providers/Microsoft.OperationalInsights/workspaces/DefaultWorkspace-3b2b257e-a6d5-4e89-aee8-8ab9a32b8a4e-US\",\n",
        "  \"ResourceName\" : \"DefaultWorkspace-3b2b257e-a6d5-4e89-aee8-8ab9a32b8a4e-US\", \t\n",
        "  \"ResourceGroupName\" : \"defaultresourcegroup\",\n",
        "  \"ResourceType\" : \"Microsoft.OperationalInsights/workspaces\",\n",
        "  \"Location\" : \"westus2\",\n",
        "\n",
        "  #Compliance details\n",
        "  \"ComplianceStatus\" : \"Non Compliant\",\n",
        "  \"ComplianceStatusReason\" : \"Data retention period does not meet the compliance standards\",\n",
        "  \"ValidationStatusCode\" : \"INSUFFICIENT_RETENTION_PERIOD\",\n",
        "  \"ValidationStatusNotes\" : \"Workspace default retention period is less than 90 days\",\n",
        "  \"EvaluatedTime\": \"1705860950858\", \n",
        "\n",
        "\n",
        "  #Data\n",
        "  \"Retention Period(days)\" : \"30\",\n",
        "\n",
        "  # User editable data\n",
        "  \"UserAction\": \"\", #[\"\", \"\"]\n",
        "\n",
        "  # Action editable data\n",
        "  \"ActionStatus\":\"\",\n",
        "  \"ActionResponseURL\": \"https://something.something\" # This contains the URL populated by the action, if any, such as the JIRA ticket URL\n",
        "}"
      ]
    },
    {
      "cell_type": "markdown",
      "metadata": {},
      "source": [
        "# Step 3.a: Sample Data"
      ]
    },
    {
      "cell_type": "markdown",
      "metadata": {
        "id": "rreP7OEAb_QB"
      },
      "source": [
        "\n",
        "\n",
        "|System|Source|ResourceId|ResourceName|ResourceGroupName|ResourceType|Location|ComplianceStatus|ComplianceStatusReason|ValidationStatusCode|ValidationStatusNotes|EvaluatedTime|Retention Period(days)|UserAction|ActionStatus|ActionResponseURL|\n",
        "|---|---|---|---|---|---|---|---|---|---|---|---|---|---|---|---|\n",
        "|azure|compliancecow|/subscriptions/3b2b257e-a6d5-4e89-aee8-8ab9a32b8a4e/resourceGroups/DefaultResourceGroup/providers/Microsoft.OperationalInsights/workspaces/DefaultWorkspace-3b2b257e-a6d5-4e89-aee8-8ab9a32b8a4e-US|DefaultWorkspace-3b2b257e-a6d5-4e89-aee8-8ab9a32b8a4e-US|defaultresourcegroup|Microsoft.OperationalInsights/workspaces|westus2|Non Compliant|Data retention period does not meet the compliance standards|INSUFFICIENT_RETENTION_PERIOD|Workspace default retention period is less than 90 days|1705860950858|30|||https://something.something|"
      ]
    },
    {
      "cell_type": "markdown",
      "metadata": {
        "id": "JgN9Go66jTtC"
      },
      "source": [
        "# Step 4: Describe the Compliance Taxonomy\n",
        "\n",
        "|retentionInDays|\tValidation Status Code| Validation Status Reason|\n",
        "|----------------|:---------------------|:------------------------|\n",
        "|<90|INSUFFICIENT_RETENTION_PERIOD|Workspace default retention period is less than 90 days|\n",
        "|=90|SUFFICIENT_RETENTION_PERIOD|Workspace default retention period meets the expected retention period of 90 days|\n",
        "|>90|EXCESS_RETENTION_PERIOD|Workspace default retention period is more than the expected retention period of 90 days|"
      ]
    },
    {
      "cell_type": "markdown",
      "metadata": {
        "id": "3Td93O7WSX26"
      },
      "source": [
        "\n",
        "\n",
        "\n",
        "The Compliance Cow's ComplianceStatus is determined from Azure Config's compliantState field\n",
        "\n",
        "|Validation Status Code| CC Compliance Status| CC Compliance Reason|\n",
        "|-------------------- | :--------------------| :--------------------|\n",
        "|INSUFFICIENT_RETENTION_PERIOD|NON COMPLIANT|Data retention period does not meet the compliance standards|\n",
        "|SUFFICIENT_RETENTION_PERIOD|COMPLIANT|Data retention period meets the compliance standards|\n",
        "|EXTENDED_RETENTION_PERIOD|COMPLIANT|Data retention period meets the compliance standards|\n"
      ]
    },
    {
      "cell_type": "markdown",
      "metadata": {
        "id": "Son7AJzlS0hh"
      },
      "source": [
        "# Step 5: Calculation for Compliance Percentage and Status\n",
        "\n"
      ]
    },
    {
      "cell_type": "code",
      "execution_count": null,
      "metadata": {},
      "outputs": [],
      "source": [
        "# Calculation of Compliance Percentage\n",
        "Compliance Percentage = (Count of 'COMPLIANT' records/Total records)*100\n",
        "\n",
        "# Compliance Status \n",
        "COMPLIANT - 100%\n",
        "NON_COMPLIANT - 0%<=status<100%\n",
        "NOT_DETERMINED - If no resources are found in the account\n"
      ]
    },
    {
      "cell_type": "markdown",
      "metadata": {
        "id": "uVDZ3Jv9TKZx"
      },
      "source": [
        "# Step 6: Describe (in words) the Remediation Steps for Non-Compliance"
      ]
    },
    {
      "cell_type": "markdown",
      "metadata": {
        "id": "IS5_pE75TfxN"
      },
      "source": [
        "At present no API based remediation seems to be available for setting default retentionInDays(this is called default as all tables in the workspace inherit this retention period unless changed explicitly) parameter to 90 days. By default, the default retentionInDays parameter for the workspace is 30 days.\n",
        "\n",
        "FOR NOT_DETERMINED : NONE\n",
        "\n",
        "FOR COMPLIANT : None\n",
        "\n",
        "For NONCOMPLAINCE:\n",
        "\n",
        "If Compliance Cow needs to notify the client, the following message can be sent via slack or ticket raised in JIRA:\n",
        "However, this can be set manually. Detailed instruction are available at:\n",
        "https://learn.microsoft.com/en-us/azure/azure-monitor/logs/data-retention-archive?tabs=api-1%2Cportal-2#configure-the-default-workspace-retention\n"
      ]
    },
    {
      "cell_type": "markdown",
      "metadata": {
        "id": "_4FdgSQH7mXE"
      },
      "source": [
        "# Step 7. Control Setup Details\n",
        "\n",
        "| Control Details               |                                  |\n",
        "|-------------------------------|----------------------------------|\n",
        "| **RuleName**                  | AzureLogAnalyticsWkSpaceRetentionPeriodReport\t                      |\n",
        "| **PreRequisiteRuleNames**     | AzureLogAnalyticsWorkSpaceDetails              |\n",
        "| **ExtendedSchemaRuleNames**   | AzureLogAnalyticsWorkSpaceDetails      |\n",
        "| **ApplicationClassName**      | azureappconnector                 |\n"
      ]
    }
  ],
  "metadata": {
    "colab": {
      "provenance": []
    },
    "kernelspec": {
      "display_name": "Python 3",
      "name": "python3"
    },
    "language_info": {
      "name": "python"
    }
  },
  "nbformat": 4,
  "nbformat_minor": 0
}
