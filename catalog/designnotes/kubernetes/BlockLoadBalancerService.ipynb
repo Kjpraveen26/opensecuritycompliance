{
  "cells": [
    {
      "cell_type": "markdown",
      "metadata": {},
      "source": [
        "# Step 1: Evidence Details\n",
        "\n",
        "|System|Source|Frameworks|\n",
        "|---|---|---|\n",
        "|kubernetes|compliancecow|-|\n",
        "\n",
        "```\n",
        "Purpose: The purpose of the control \"Block Load Balancer Service\" is to prevent the creation of services with type \"LoadBalancer,\" thereby restricting external access to services via load balancers. This enhances security and control over network exposure within a Kubernetes cluster.\n",
        "```\n",
        "```\n",
        "RecomendedEvidenceName: K8sBlockLoadBalancer\n",
        "```"
      ]
    },
    {
      "cell_type": "markdown",
      "metadata": {},
      "source": [
        "# Step 2: Define the System Specific Data (a.k.a Extended Data Schema)"
      ]
    },
    {
      "cell_type": "code",
      "execution_count": null,
      "metadata": {},
      "outputs": [],
      "source": [
        "# Sample data \n",
        "\n",
        "{\n",
        "        \"apiVersion\": \"v1\",\n",
        "        \"kind\": \"Service\",\n",
        "        \"metadata\": {\n",
        "          \"annotations\": {\n",
        "            \"kubectl.kubernetes.io/last-applied-configuration\": \"{\\\"apiVersion\\\":\\\"v1\\\",\\\"kind\\\":\\\"Service\\\",\\\"metadata\\\":{\\\"annotations\\\":{},\\\"labels\\\":{\\\"app.kubernetes.io/component\\\":\\\"applicationset-controller\\\",\\\"app.kubernetes.io/name\\\":\\\"argocd-applicationset-controller\\\",\\\"app.kubernetes.io/part-of\\\":\\\"argocd\\\"},\\\"name\\\":\\\"argocd-applicationset-controller\\\",\\\"namespace\\\":\\\"argocd\\\"},\\\"spec\\\":{\\\"ports\\\":[{\\\"name\\\":\\\"webhook\\\",\\\"port\\\":7000,\\\"protocol\\\":\\\"TCP\\\",\\\"targetPort\\\":\\\"webhook\\\"},{\\\"name\\\":\\\"metrics\\\",\\\"port\\\":8080,\\\"protocol\\\":\\\"TCP\\\",\\\"targetPort\\\":\\\"metrics\\\"}],\\\"selector\\\":{\\\"app.kubernetes.io/name\\\":\\\"argocd-applicationset-controller\\\"}}}\\n\"\n",
        "          },\n",
        "          \"creationTimestamp\": \"2023-11-22T06:06:21Z\",\n",
        "          \"labels\": {\n",
        "            \"app.kubernetes.io/component\": \"applicationset-controller\",\n",
        "            \"app.kubernetes.io/name\": \"argocd-applicationset-controller\",\n",
        "            \"app.kubernetes.io/part-of\": \"argocd\"\n",
        "          },\n",
        "          \"name\": \"argocd-applicationset-controller\",\n",
        "          \"namespace\": \"argocd\",\n",
        "          \"resourceVersion\": \"176619824\",\n",
        "          \"uid\": \"2606902a-080e-44c3-bb79-5b9ae369d6a3\"\n",
        "        },\n",
        "        \"spec\": {\n",
        "          \"clusterIP\": \"10.2.0.210\",\n",
        "          \"clusterIPs\": [\n",
        "            \"10.2.0.210\"\n",
        "          ],\n",
        "          \"internalTrafficPolicy\": \"Cluster\",\n",
        "          \"ipFamilies\": [\n",
        "            \"IPv4\"\n",
        "          ],\n",
        "          \"ipFamilyPolicy\": \"SingleStack\",\n",
        "          \"ports\": [\n",
        "            {\n",
        "              \"name\": \"webhook\",\n",
        "              \"port\": 7000,\n",
        "              \"protocol\": \"TCP\",\n",
        "              \"targetPort\": \"webhook\"\n",
        "            },\n",
        "            {\n",
        "              \"name\": \"metrics\",\n",
        "              \"port\": 8080,\n",
        "              \"protocol\": \"TCP\",\n",
        "              \"targetPort\": \"metrics\"\n",
        "            }\n",
        "          ],\n",
        "          \"selector\": {\n",
        "            \"app.kubernetes.io/name\": \"argocd-applicationset-controller\"\n",
        "          },\n",
        "          \"sessionAffinity\": \"None\",\n",
        "          \"type\": \"ClusterIP\"\n",
        "        },\n",
        "        \"status\": {\n",
        "          \"loadBalancer\": {}\n",
        "        }\n",
        "      }"
      ]
    },
    {
      "cell_type": "markdown",
      "metadata": {},
      "source": [
        "# Step 3: Define the Standard Schema\n",
        "  \n"
      ]
    },
    {
      "cell_type": "code",
      "execution_count": null,
      "metadata": {},
      "outputs": [],
      "source": [
        "{\n",
        "    # Meta\n",
        "    \"System\": \"kubernetes\",\n",
        "    \"Source\": \"compliancecow\",\n",
        "\n",
        "    # Resource info\n",
        "    \"ResourceID\": \"Service/argocd-applicationset-controller\",\n",
        "    \"ResourceName\": \"argocd-applicationset-controller\",\n",
        "    \"ResourceType\": \"Service\",\n",
        "    \"ResourceTags\": \"\",\n",
        "\n",
        "    # Data\n",
        "    \"Namespace\": \"argocd\",\n",
        "    \"ClusterType\": \"Private cluster\",\n",
        "    \"ClusterName\": \"cr-dev-eks-cr-4\",\n",
        "    \"RuleName\": \"k8sblockloadbalancer\",\n",
        "    \n",
        "    \n",
        "    # Compliance details\n",
        "    \"ValidationStatusCode\": \"LB_BLK\",\n",
        "    \"ValidationStatusNotes\": \"LoadBalancer Service blocked\",\n",
        "    \"ComplianceStatus\": \"COMPLIANT\",\n",
        "    \"ComplianceStatusReason\": \"Blocking LoadBalancer services enhances security.\",\n",
        "    \"RemediationNotes\": \"\",\n",
        "    \"EvaluatedTime\": \"2024-07-25T15:10:03.807883717Z\",\n",
        "\n",
        "    # User editable data\n",
        "    \"PrNumber\": \"\",\n",
        "    \"PrStatus\": \"\",\n",
        "    \"CommitID\": \"\",\n",
        "    \"TicketCreatedDate\": \"\",\n",
        "    \"TicketClosedDate\": \"\",\n",
        "    \"UserAction\":\"\",\n",
        "\n",
        "    # Action editable data\n",
        "    \"ActionStatus\":\"\",\n",
        "    \"ActionResponseURL\":\"\"\n",
        "    \n",
        "}"
      ]
    },
    {
      "cell_type": "markdown",
      "metadata": {},
      "source": [
        "# Step 3.a: Sample Data\n",
        "\n",
        "|System|Source|ResourceID|ResourceName|ResourceType|ResourceTags|Namespace|ClusterType|ClusterName|RuleName|ValidationStatusCode|ValidationStatusNotes|ComplianceStatus|ComplianceStatusReason|RemediationNotes|EvaluatedTime|PrNumber|PrStatus|CommitID|TicketCreatedDate|TicketClosedDate|ActionStatus|ActionResponseURL|\n",
        "|---|---|---|---|---|---|---|---|---|---|---|---|---|---|---|---|---|---|---|---|---|---|---|\n",
        "|kubernetes|compliancecow|Service/argocd-applicationset-controller|argocd-applicationset-controller|Service||argocd|Private cluster|cr-dev-eks-cr-4|k8sblockloadbalancer|LB_BLK|LoadBalancer Service blocked|COMPLIANT|Blocking LoadBalancer services enhances security.||2024-07-25T15:10:03.807883717Z||||||||"
      ]
    },
    {
      "cell_type": "markdown",
      "metadata": {},
      "source": [
        "# Step 4: Describe the Compliance Taxonomy\n",
        "\n",
        "\n",
        "|ComplianceStatus|ComplianceStatusReason|ValidationStatusCode|ValidationStatusNotes|\n",
        "|---|---|---|---|\n",
        "|COMPLIANT|Blocking LoadBalancer services enhances security.|LB_BLK|LoadBalancer Service blocked|\n",
        "|NON_COMPLIANT|This record is non-compliant because LoadBalancer services are not blocked, which may weaken security.|LB_N_BLK|LoadBalancer Service not blocked|"
      ]
    },
    {
      "cell_type": "markdown",
      "metadata": {},
      "source": [
        "# Step 5: Calculation for Compliance Percentage and Status\n"
      ]
    },
    {
      "cell_type": "code",
      "execution_count": null,
      "metadata": {},
      "outputs": [],
      "source": [
        "# Calculation of Compliance Percentage\n",
        "CompliancePCT = (100 - (Count of 'NON_COMPLIANT' records * 100) / Total records)\n",
        "\n",
        "# Compliance Status\n",
        "#COMPLIANT - 100%\n",
        "#NON_COMPLIANT - 0%<=status<100%\n",
        "#NOT_DETERMINED - If no records are found in the account"
      ]
    },
    {
      "cell_type": "markdown",
      "metadata": {},
      "source": [
        "# Step 6: Describe (in words) the Remediation Steps for Non-Compliance"
      ]
    },
    {
      "cell_type": "markdown",
      "metadata": {},
      "source": [
        "1. NotifyBySlackChannel\n",
        "2. OpaGitHubRemediation"
      ]
    },
    {
      "cell_type": "markdown",
      "metadata": {},
      "source": [
        "# Step 7. Control Setup Details"
      ]
    },
    {
      "cell_type": "markdown",
      "metadata": {},
      "source": [
        "| Control Details            |                               |\n",
        "|----------------------------|-------------------------------|\n",
        "| **RuleName**               | EvaluateTypeOpaRule    |\n",
        "| **PreRequisiteRuleNames**  |           |\n",
        "| **ExtendedSchemaRuleNames**|            |\n",
        "| **ApplicationClassName**   | kubernetes               |"
      ]
    }
  ],
  "metadata": {
    "colab": {
      "provenance": []
    },
    "kernelspec": {
      "display_name": "Python 3",
      "name": "python3"
    },
    "language_info": {
      "name": "python"
    }
  },
  "nbformat": 4,
  "nbformat_minor": 0
}
