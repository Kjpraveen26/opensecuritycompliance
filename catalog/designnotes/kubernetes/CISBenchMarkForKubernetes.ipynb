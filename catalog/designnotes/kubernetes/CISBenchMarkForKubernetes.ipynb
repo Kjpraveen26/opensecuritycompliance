{
  "cells": [
    {
      "cell_type": "markdown",
      "metadata": {
        "id": "sFlmicb0Mlse"
      },
      "source": [
        "# Step 1: Evidence Details\n",
        "\n",
        "|System|Source of data|Frameworks|\n",
        "|---|---|---|\n",
        "|kubernetes|kube-bench|cis benchmark for kubernetes|\n",
        "\n",
        "```\n",
        "Purpose: The purpose of Kube-bench CIS benchmark for Kubernetes is to ensure adherence to industry-standard security best practices, identify potential security vulnerabilities, and provide actionable insights for enhancing the overall security posture of Kubernetes clusters. It enables automated scanning and monitoring of Kubernetes configurations against the CIS benchmarks, aiding in the proactive mitigation of security risks and bolstering the resilience of containerized environments.\n",
        "```\n",
        "```\n",
        "RecomendedEvidenceName: CISBenchmarkForKubernetesResults\n",
        "```"
      ]
    },
    {
      "cell_type": "markdown",
      "metadata": {
        "id": "HwaAN4PWRC-_"
      },
      "source": [
        "# Step 2: Define the System Specific Data (a.k.a Extended Data Schema)"
      ]
    },
    {
      "cell_type": "markdown",
      "metadata": {
        "id": "a7nxEIiVcL4t"
      },
      "source": [
        "Sample data\n",
        "\n",
        "\n",
        "[WARN] 5.1.2 Minimize access to secrets (Manual)\n",
        "\n",
        "5.1.2 Where possible, remove get, list and watch access to Secret objects in the cluster."
      ]
    },
    {
      "cell_type": "markdown",
      "metadata": {
        "id": "OMfAqx9AZD-R"
      },
      "source": [
        "# Step 3: Define the Standard Schema\n",
        "  \n"
      ]
    },
    {
      "cell_type": "code",
      "execution_count": null,
      "metadata": {
        "id": "rjwrF9FPg9kE"
      },
      "outputs": [],
      "source": [
        "{\n",
        "    # Meta\n",
        "    \"System\": \"kubernetes\",\n",
        "    \"Source\": \"kube-bench\",\n",
        "\n",
        "    # Resource info\n",
        "    \"ResourceID\":\"cr-dev-eks-cr-4\",\n",
        "    \"ResourceName\": \"cr-dev-eks-cr-4\",\n",
        "    \"ResourceType\": \"Private cluster\",\n",
        "    \"ResourceLocation\": \"\",\n",
        "    \"ResourceTags\": None,\n",
        "\n",
        "    # Data\n",
        "    \"ParentControlDescription\": \"Worker Node Configuration Files\",\n",
        "    \"ControlNumber\": \"4.1.1\",\n",
        "    \"ControlDescription\": \"Ensure that the kubelet service file permissions are set to 600 or more restrictive (Automated)\",\n",
        "    \n",
        "    # Compliance details\n",
        "    \"ValidationStatusCode\": \"PS\",\n",
        "    \"ValidationStatusNotes\": \"File permissions meet the CIS Benchmark requirement.\",\n",
        "    \"ComplianceStatus\": \"COMPLIANT\",\n",
        "    \"ComplianceStatusReason\": \"Kube-bench logs indicate permissions are set to 600 or more restrictive (details in logs)\",\n",
        "    \"RemediationSteps\": \"\",\n",
        "    \"EvaluatedTime\": \"2024-04-16T10:06:43.829090157Z\",\n",
        "\n",
        "    # User editable data\n",
        "    \"UserAction\":\"\",\n",
        "\n",
        "    # Action editable data\n",
        "    \"ActionStatus\":\"\",\n",
        "    \"ActionResponseURL\":\"\"\n",
        "}"
      ]
    },
    {
      "cell_type": "markdown",
      "metadata": {
        "id": "vQQKJKfUabxd"
      },
      "source": [
        "# Step 3.a: Sample Data\n",
        "\n",
        "|System|Source|ResourceID|ResourceName|ResourceType|ResourceLocation|ResourceTags|ParentControlDescription|ControlNumber|ControlDescription|ValidationStatusCode|ValidationStatusNotes|ComplianceStatus|ComplianceStatusReason|RemediationSteps|EvaluatedTime|UserAction|ActionStatus|ActionResponseURL|\n",
        "|---|---|---|---|---|---|---|---|---|---|---|---|---|---|---|---|---|---|---|\n",
        "|kubernetes|kube-bench|cr-dev-eks-cr-4|cr-dev-eks-cr-4|Private cluster||None|Worker Node Configuration Files|4.1.1|Ensure that the kubelet service file permissions are set to 600 or more restrictive (Automated)|PS|File permissions meet the CIS Benchmark requirement.|COMPLIANT|Kube-bench logs indicate permissions are set to 600 or more restrictive (details in logs)||2024-04-16T10:06:43.829090157Z||||"
      ]
    },
    {
      "cell_type": "markdown",
      "metadata": {
        "id": "bxsZR5l8SiOd"
      },
      "source": [
        "# Step 4: Describe the Compliance Taxonomy\n",
        "\n",
        "The compliance taxonomy changes based on the ControlName field, from the ControlConfig.json, which can be found inside catalog/globalcatalog/rules/EvaluateCISBenchmarkForKubernetes/RuleConfig.json.\n",
        "\n",
        "The below table contains the taxonomy for the ControlNumber: 5.1.2\n",
        "\n",
        "|ValidationStatusCode|ValidationStatusNotes|ComplianceStatus|ComplianceStatusReason|\n",
        "|---|---|---|---|\n",
        "|PS|Secret access meets the CIS Benchmark requirement.|COMPLIANT|Audit logs indicate that access to secrets is minimized (details in logs)|\n",
        "|FL|Remediation required: Minimize secret access as per CIS Benchmark.|NON_COMPLIANT|Audit logs indicate that access to secrets is not minimized (details in logs)|"
      ]
    },
    {
      "cell_type": "markdown",
      "metadata": {
        "id": "Son7AJzlS0hh"
      },
      "source": [
        "# Step 5: Calculation for Compliance Percentage and Status\n"
      ]
    },
    {
      "cell_type": "code",
      "execution_count": null,
      "metadata": {
        "id": "nZMdcSLnNaQe"
      },
      "outputs": [],
      "source": [
        "# Calculation of Compliance Percentage\n",
        "CompliancePCT = (100 - (Count of 'NON_COMPLIANT' records * 100) / Total records)\n",
        "\n",
        "# Compliance Status\n",
        "#COMPLIANT - 100%\n",
        "#NON_COMPLIANT - 0%<=status<100%\n",
        "#NOT_DETERMINED - If no records are found in the account"
      ]
    },
    {
      "cell_type": "markdown",
      "metadata": {
        "id": "uVDZ3Jv9TKZx"
      },
      "source": [
        "# Step 6: Describe (in words) the Remediation Steps for Non-Compliance"
      ]
    },
    {
      "cell_type": "markdown",
      "metadata": {
        "id": "IS5_pE75TfxN"
      },
      "source": [
        "Remediation notes:\n",
        "Address non-compliance records refer 'ValidationStatusNotes' which is nothing but the 'RemediationSteps'."
      ]
    },
    {
      "cell_type": "markdown",
      "metadata": {
        "id": "trjrGTI6N3wv"
      },
      "source": [
        "# Step 7. Control Setup Details"
      ]
    },
    {
      "cell_type": "markdown",
      "metadata": {
        "id": "IHKtasdRN6-V"
      },
      "source": [
        "| Control Details            |                               |\n",
        "|----------------------------|-------------------------------|\n",
        "| **RuleName**               | EvaluateCISBenchmarkForKubernetes    |\n",
        "| **PreRequisiteRuleNames**  |           |\n",
        "| **ExtendedSchemaRuleNames**|            |\n",
        "| **ApplicationClassName**   | kubernetes               |"
      ]
    }
  ],
  "metadata": {
    "colab": {
      "provenance": []
    },
    "kernelspec": {
      "display_name": "Python 3",
      "name": "python3"
    },
    "language_info": {
      "name": "python"
    }
  },
  "nbformat": 4,
  "nbformat_minor": 0
}
