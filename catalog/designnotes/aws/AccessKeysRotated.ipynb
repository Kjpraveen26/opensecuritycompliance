{
  "cells": [
    {
      "cell_type": "markdown",
      "metadata": {
        "id": "sFlmicb0Mlse"
      },
      "source": [
        "# Step 1: Evidence Details\n",
        "\n",
        "|System|Source of data|Frameworks|Purpose|\n",
        "|---|---|---|---|\n",
        "|aws|compliancecow||Ensure accessKey Rotated within given time period(MaxAccessKeyAge)|\n",
        "\n",
        "```\n",
        "Purpose: The purpose of AWS Access Key rotation rule is to enhance security by regularly replacing access keys used for programmatic access to AWS resources. Rotating keys reduces the risk of unauthorized access due to compromised or leaked credentials. It ensures that access keys are regularly refreshed, minimizing the window of vulnerability.\n",
        "```\n",
        "```\n",
        "Input: MaxAccessKeyAge - 90 ( sample input )\n",
        "RecomendedEvidenceName: AccessKeyRotationReport\n",
        "```"
      ]
    },
    {
      "cell_type": "markdown",
      "metadata": {
        "id": "HwaAN4PWRC-_"
      },
      "source": [
        "# Step 2: Define the System Specific Data (a.k.a Extended Data Schema)"
      ]
    },
    {
      "cell_type": "code",
      "execution_count": null,
      "metadata": {
        "id": "a7nxEIiVcL4t"
      },
      "outputs": [],
      "source": [
        "# AWS Example\n",
        "[\n",
        "      {\n",
        "        \"User\": \"johndoe\",\n",
        "        \"ARN\": \"arn:aws:iam::022654265366:johndoe\",\n",
        "        \"UserCreationTime\": \"2023-03-17T07:04:00+00:00\",\n",
        "        \"PasswordEnabled\": true,\n",
        "        \"PasswordLastUsed\": \"2024-03-08T05:47:36+00:00\",\n",
        "        \"PasswordLastChanged\" : \"2023-03-17T07:04:00+00:00\",\n",
        "        \"PasswordNextRotation\" : \"N/A\",\n",
        "        \"MFAActive\" : false,\n",
        "        \"AccessKey1Active\" : true,\n",
        "        \"AccessKey1LastRotated\" : \"N/A\",\n",
        "        \"AccessKey1LastUsed\": \"2024-03-13T06:47:00+00:00\",\n",
        "        \"AccessKey1LastUsedRegion\" : \"us-west-2\",\n",
        "        \"AccessKey1LastUsedService\" : \"securityhub\",\n",
        "        \"AccessKey2Active\" : true,\n",
        "        \"AccessKey2LastRotated\" : \"\"\n",
        "        \"Accesskey2LastUsedDate\": \"\",\n",
        "        \"AccessKey2LastUsedRegion\" : \"\",\n",
        "        \"AccessKey2LastUsedService\": \"\",\n",
        "        \"Cert1Active\": \"\",\n",
        "        \"Cert1LastRotated\": \"\"\t,\n",
        "        \"Cert2Active\": \"\",\n",
        "        \"Cert2LastRotated\" : \"\",\n",
        "        \"MFADevices\" : \"\"\n",
        "      }\n",
        "  ]"
      ]
    },
    {
      "cell_type": "markdown",
      "metadata": {
        "id": "OMfAqx9AZD-R"
      },
      "source": [
        "# Step 3: Define the Standard Schema\n",
        "  \n"
      ]
    },
    {
      "cell_type": "code",
      "execution_count": null,
      "metadata": {
        "id": "rjwrF9FPg9kE"
      },
      "outputs": [],
      "source": [
        "{\n",
        "    # Meta\n",
        "    \"System\":\"aws\",\n",
        "    \"Source\":\"compliancecow\",\n",
        "\n",
        "    # Resource info\n",
        "    \"ResourceID\":\"arn:aws:iam::022654265366:user/test-user-one\",\n",
        "    \"ResourceName\":\"test-user-one\",\n",
        "    \"ResourceType\":\"AwsIamUser\",\n",
        "    \"ResourceLocation\":\"global\",\n",
        "    \"ResourceTags\": null,\n",
        "    \"ResourceURL\": \"https://us-east-1.console.aws.amazon.com/iamv2/home?region=us-east-1#/users/details/test-user-one\",\n",
        "\n",
        "    # Data\n",
        "    \"AccessKey1Active\": \"true\",\n",
        "    \"AccessKey1LastRotated\": \"2023-03-24T13:11:23+00:00\",\n",
        "    \"AccessKey1Age\": 122,\n",
        "    \"Accesskey1LastUsedDate\": \"2023-12-20T13:34:00+00:00\",\n",
        "    \"AccessKey2Active\": \"true\",\n",
        "    \"AccessKey2LastRotated\": \"2023-03-24T13:11:23+00:00\",\n",
        "    \"AccessKey2Age\": 90,\n",
        "    \"Accesskey2LastUsedDate\": \"2023-12-20T13:34:00+00:00\",\n",
        "\n",
        "    # Compliance details\n",
        "    \"ValidationStatusCode\":\"ACC_KY2_RTD_ACC_KY1_NT_RTD\",\n",
        "    \"ValidationStatusNotes\":\"AcessKey2 was rotated properly and accessKey1 was not rotated properly\",\n",
        "    \"ComplianceStatus\":\"NON_COMPLIANT\",\n",
        "\t\t\"ComplianceStatusReason\":\"Record is non compliant as accessKey1 was not rotated properly\",\n",
        "\t\t\"EvaluatedTime\":\"2023-12-22T07:03:37.417Z\",\n",
        "\n",
        "    # User editable data\n",
        "     \"UserAction\":\"\",\n",
        "\n",
        "    # Action editable data\n",
        "     \"ActionStatus\":\"\",\n",
        "     \"ActionResponseURL\":\"\"\n",
        "}"
      ]
    },
    {
      "cell_type": "markdown",
      "metadata": {
        "id": "vQQKJKfUabxd"
      },
      "source": [
        "# Step 3.a: Sample Data\n",
        "\n",
        "|System|Source|ResourceID|ResourceName|ResourceType|ResourceLocation|ResourceTags|ResourceURL|AccessKey1Active|AccessKey1LastRotated|AccessKey1Age|Accesskey1LastUsedDate|AccessKey2Active|AccessKey2LastRotated|AccessKey2Age|Accesskey2LastUsedDate|ValidationStatusCode|ValidationStatusNotes|ComplianceStatus|ComplianceStatusReason|EvaluatedTime|UserAction|ActionStatus|ActionResponseURL|\n",
        "|------|------|------|------|------|------|------|------|------|------|------|------|------|------|------|------|------|------|------|------|------|------|------|------|\n",
        "|aws|compliancecow|arn:aws:iam::022654265366:user/test-user-one|test-user-one|AwsIamUser|global||https://us-east-1.console.aws.amazon.com/iamv2/home?region=us-east-1#/users/details/test-user-one|true|2023-11-16T05:00:21+00:00|273|2023-12-20T13:34:00+00:00|true|2023-03-24T13:11:23+00:00|122|2024-03-16T00:50:00+00:00|ACC_KY2_RTD_ACC_KY1_NT_RTD|AcessKey2 was rotated properly and accessKey1 was not rotated properly|NON_COMPLIANT|Record is not compliant as the access key was not rotated properly|2023-12-22T07:03:37.417Z|\n",
        "|aws|compliancecow|arn:aws:iam::022654265366:user/test-user-two|test-user-two|AwsIamUser|global||https://us-east-1.console.aws.amazon.com/iamv2/home?region=us-east-1#/users/details/test-user-two|false|N/A|N/A|N/A|false|N/A|N/A|N/A|BTH_ACC_KEY_NT_RTD|Both access keys have not been rotated|NON_COMPLIANT|The record is not compliant as both access keys were not rotated properly|2023-12-22T07:03:37.417Z|\n",
        "|aws|compliancecow|arn:aws:iam::022654265366:user/test-user-two|test-user-two|AwsIamUser|global||https://us-east-1.console.aws.amazon.com/iamv2/home?region=us-east-1#/users/details/test-user-three|true|2024-02-22T08:00:12+00:00|24|N/A|false|N/A|N/A|N/A|ACC_KEY_RTD|Accesskey1 has been rotated|COMPLIANT|Record is compliant as accesskey1 was rotated properly|2023-12-22T07:03:37.417Z|"
      ]
    },
    {
      "cell_type": "markdown",
      "metadata": {
        "id": "bxsZR5l8SiOd"
      },
      "source": [
        "# Step 4: Describe the Compliance Taxonomy\n",
        "\n",
        "|Access1KeyAge|Access2KeyAge|ValidationStatusCode|ValidationStatusNotes|ComplianceStatus|ComplianceStatusReason|\n",
        "|---|---|---|---|---|---|\n",
        "| > MaxAccessKeyAge| > MaxAccessKeyAge|BTH_ACC_KEY_NT_RTD|Both access keys have not been rotated|NON_COMPLIANT|The record is not compliant as both access keys were not rotated properly|\n",
        "| <= MaxAccessKeyAge| <= MaxAccessKeyAge|BTH_ACC_KEY_RTD|Both access keys have been rotated|COMPLIANT|Record is compliant as both access keys were rotated properly|\n",
        "|>MaxAccessKeyAge| <= MaxAccessKeyAge|ACC_KY2_RTD_ACC_KY1_NT_RTD|Record is non compliant as accessKey1 was not rotated properly|NON_COMPLIANT|AcessKey2 was rotated properly and accessKey1 was not rotated properly|\n",
        "| <= MaxAccessKeyAge| > MaxAccessKeyAge|ACC_KY1_RTD_ACC_KY2_NT_RTD|Record is non compliant as accessKey2 was not rotated properly|NON_COMPLIANT|AcessKey1 was rotated properly and accessKey2 was not rotated properly|\n",
        "| <= MaxAccessKeyAge| N/A |ACC_KEY_RTD|Record is compliant as accesskey1 was rotated properly|COMPLIANT|Accesskey1 has been rotated|\n",
        "| > MaxAccessKeyAge| N/A |ACC_KEY_NT_RTD|Record is not compliant as ccesskey1 was not rotated properly|NON_COMPLIANT|Accesskey1 has not been rotated|\n",
        "|N/A| <= MaxAccessKeyAge |ACC_KEY_RTD|Record is compliant as accesskey2 was rotated properly|COMPLIANT|Accesskey2 has been rotated|\n",
        "|N/A| > MaxAccessKeyAge|ACC_KEY_NT_RTD|Record is not compliant as accesskey2was not rotated properly|NON_COMPLIANT|Accesskey2 has not been rotated|"
      ]
    },
    {
      "cell_type": "markdown",
      "metadata": {
        "id": "Son7AJzlS0hh"
      },
      "source": [
        "# Step 5: Calculation for Compliance Percentage and Status\n"
      ]
    },
    {
      "cell_type": "code",
      "execution_count": null,
      "metadata": {
        "id": "nZMdcSLnNaQe"
      },
      "outputs": [],
      "source": [
        "# Calculation of Compliance Percentage\n",
        "\n",
        "TotalRecordCount = Count of 'COMPLIANT' and 'NON_COMPLIANT' records\n",
        "FailedRecordCount = Count of 'NON_COMPLIANT' records\n",
        "\n",
        "CompliancePCT = int(100 - ((FailedRecordCount * 100) / TotalRecordCount))\n",
        "\n",
        "Compliance Status\n",
        "COMPLIANT - 100%\n",
        "NON_COMPLIANT - 0% to less than 100%"
      ]
    },
    {
      "cell_type": "markdown",
      "metadata": {
        "id": "uVDZ3Jv9TKZx"
      },
      "source": [
        "# Step 6: Describe (in words) the Remediation Steps for Non-Compliance"
      ]
    },
    {
      "cell_type": "markdown",
      "metadata": {
        "id": "IS5_pE75TfxN"
      },
      "source": [
        "Remediation notes:\n",
        "Address non-compliance with the AWS Access Key Rotation Policy by rotating the identified access key << KeyName >>\n",
        "\n",
        "Steps:\n",
        "\n",
        "1. Log in to the AWS Management Console.\n",
        "2. Navigate to IAM and select the user or role associated with the identified access key.\n",
        "3. Generate a new access key and disable or delete the old one.\n",
        "\n",
        "Refer the doc for more information: https://docs.aws.amazon.com/IAM/latest/UserGuide/id_credentials_access-keys.html"
      ]
    },
    {
      "cell_type": "markdown",
      "metadata": {
        "id": "trjrGTI6N3wv"
      },
      "source": [
        "# Step 7: Control Setup Details"
      ]
    },
    {
      "cell_type": "markdown",
      "metadata": {
        "id": "IHKtasdRN6-V"
      },
      "source": [
        "| Control Details            |                               |\n",
        "|----------------------------|-------------------------------|\n",
        "| **RuleName**               | AWSAccessKeyRotationReport    |\n",
        "| **PreRequisiteRuleNames**  | AWSCredentialReport           |\n",
        "| **ApplicationClassName**   | AWSAppConnector               |"
      ]
    }
  ],
  "metadata": {
    "colab": {
      "provenance": []
    },
    "kernelspec": {
      "display_name": "Python 3",
      "name": "python3"
    },
    "language_info": {
      "name": "python"
    }
  },
  "nbformat": 4,
  "nbformat_minor": 0
}
