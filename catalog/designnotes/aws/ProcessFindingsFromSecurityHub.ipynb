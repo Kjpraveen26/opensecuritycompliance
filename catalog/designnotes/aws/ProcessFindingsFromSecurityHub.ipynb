{
  "cells": [
    {
      "cell_type": "markdown",
      "metadata": {
        "id": "sFlmicb0Mlse"
      },
      "source": [
        "# Step 1: Evidence Details\n",
        "\n",
        "|System|Source of data|Frameworks|Purpose|\n",
        "|---|---|---|---|\n",
        "|aws|compliancecow||Filter the AWS Security hub finding details and produce compliance data based on the provided control configuration file.|\n",
        "\n",
        "```\n",
        "RecomendedEvidenceName: Evidence name is provided in the control configuration file.\n",
        "```"
      ]
    },
    {
      "cell_type": "markdown",
      "metadata": {
        "id": "HwaAN4PWRC-_"
      },
      "source": [
        "# Step 2: Define the System Specific Data (a.k.a Extended Data Schema)\n"
      ]
    },
    {
      "cell_type": "code",
      "execution_count": null,
      "metadata": {
        "id": "a7nxEIiVcL4t"
      },
      "outputs": [],
      "source": [
        "# ControlConfig Sample\n",
        "\n",
        "  {\n",
        "        \"ControlName\": \"EC2.13\",\n",
        "        \"EvidenceName\": \"RestrictedSSH\",\n",
        "        \"COMPLIANT\": {\n",
        "            \"ComplianceStatusReason\": \"Record compliant as incoming ssh traffic disabled\",\n",
        "            \"ValidationStatusCode\": \"IPv4_INCOMING_SSH_DISABLED\",\n",
        "            \"ValidationStatusNotes\": \"Incoming ssh traffic disabled\"\n",
        "        },\n",
        "        \"NON_COMPLIANT\": {\n",
        "            \"ComplianceStatusReason\": \"Record is non-compliant because incoming SSH traffic is enabled.\",\n",
        "            \"ValidationStatusCode\": \"IPv4_INCOMING_SSH_ENABLED\",\n",
        "            \"ValidationStatusNotes\": \"Incoming ssh traffic enabled\"\n",
        "        },\n",
        "        \"NOT_DETERMINED\": {\n",
        "            \"ComplianceStatusReason\": \"Incoming ssh traffic status could not be determined\",\n",
        "            \"ValidationStatusCode\": \"ComplianceStatusReasons.[0].ReasonCode\",  #  Value fetched from aws security hub response - ComplianceStatusReasons.[0]\n",
        "            \"ValidationStatusNotes\": \"ComplianceStatusReasons.[0].Description\"\n",
        "        }\n",
        "    }\n",
        "\n",
        "\n",
        "\n",
        "# AWS Security hub finding sample\n",
        "\n",
        "   {\n",
        "\t\t\"Action\": null,\n",
        "\t\t\"AwsAccountId\": \"0667123456\",\n",
        "\t\t\"CompanyName\": \"AWS\",\n",
        "\t\t\"Compliance\": {\n",
        "\t\t\t\"AssociatedStandards\": [\n",
        "\t\t\t\t{\n",
        "\t\t\t\t\t\"StandardsId\": \"ruleset/cis-aws-foundations-benchmark/v/1.2.0\"\n",
        "\t\t\t\t}\n",
        "\t\t\t],\n",
        "\t\t\t\"RelatedRequirements\": [\n",
        "\t\t\t\t\"CIS AWS Foundations 3.2\"\n",
        "\t\t\t],\n",
        "\t\t\t\"SecurityControlId\": \"CloudWatch.3\",\n",
        "\t\t\t\"Status\": \"PASSED\",\n",
        "\t\t\t\"StatusReasons\": null\n",
        "\t\t},\n",
        "\t\t\"Confidence\": null,\n",
        "\t\t\"CreatedAt\": \"2023-11-28T14:05:13.102Z\",\n",
        "\t\t\"Criticality\": null,\n",
        "\t\t\"Description\": \"Real-time monitoring of API calls can be achieved by directing CloudTrail Logs to CloudWatch Logs and establishing corresponding metric filters and alarms. It is recommended that a metric filter and alarm be established for console logins that are not protected by multi-factor authentication (MFA).\",\n",
        "\t\t\"FindingProviderFields\": {\n",
        "\t\t\t\"Confidence\": null,\n",
        "\t\t\t\"Criticality\": null,\n",
        "\t\t\t\"RelatedFindings\": null,\n",
        "\t\t\t\"Severity\": {\n",
        "\t\t\t\t\"Label\": \"INFORMATIONAL\",\n",
        "\t\t\t\t\"Original\": \"INFORMATIONAL\"\n",
        "\t\t\t},\n",
        "\t\t\t\"Types\": [\n",
        "\t\t\t\t\"Software and Configuration Checks/Industry and Regulatory Standards/CIS AWS Foundations Benchmark\"\n",
        "\t\t\t]\n",
        "\t\t},\n",
        "\t\t\"FirstObservedAt\": \"2023-11-28T14:05:13.102Z\",\n",
        "\t\t\"GeneratorDetails\": null,\n",
        "\t\t\"GeneratorId\": \"arn:aws:securityhub:::ruleset/cis-aws-foundations-benchmark/v/1.2.0/rule/3.2\",\n",
        "\t\t\"Id\": \"arn:aws:securityhub:us-east-1:0667123456:subscription/cis-aws-foundations-benchmark/v/1.2.0/3.2/finding/74eee69a-5961-44df-9663-beeb6def0c30\",\n",
        "\t\t\"LastObservedAt\": \"2024-07-31T03:55:32.688Z\",\n",
        "\t\t\"Malware\": null,\n",
        "\t\t\"Network\": null,\n",
        "\t\t\"NetworkPath\": null,\n",
        "\t\t\"Note\": null,\n",
        "\t\t\"PatchSummary\": null,\n",
        "\t\t\"Process\": null,\n",
        "\t\t\"ProductArn\": \"arn:aws:securityhub:us-east-1::product/aws/securityhub\",\n",
        "\t\t\"ProductFields\": {\n",
        "\t\t\t\"RecommendationUrl\": \"https://docs.aws.amazon.com/console/securityhub/CloudWatch.3/remediation\",\n",
        "\t\t\t\"Resources:0/Id\": \"arn:aws:iam::0667123456:root\",\n",
        "\t\t\t\"RuleId\": \"3.2\",\n",
        "\t\t\t\"StandardsControlArn\": \"arn:aws:securityhub:us-east-1:0667123456:control/cis-aws-foundations-benchmark/v/1.2.0/3.2\",\n",
        "\t\t\t\"StandardsGuideArn\": \"arn:aws:securityhub:::ruleset/cis-aws-foundations-benchmark/v/1.2.0\",\n",
        "\t\t\t\"StandardsGuideSubscriptionArn\": \"arn:aws:securityhub:us-east-1:0667123456:subscription/cis-aws-foundations-benchmark/v/1.2.0\",\n",
        "\t\t\t\"aws/securityhub/CompanyName\": \"AWS\",\n",
        "\t\t\t\"aws/securityhub/FindingId\": \"arn:aws:securityhub:us-east-1::product/aws/securityhub/arn:aws:securityhub:us-east-1:0667123456:subscription/cis-aws-foundations-benchmark/v/1.2.0/3.2/finding/74eee69a-5961-44df-9663-beeb6def0c30\",\n",
        "\t\t\t\"aws/securityhub/ProductName\": \"Security Hub\"\n",
        "\t\t},\n",
        "\t\t\"ProductName\": \"Security Hub\",\n",
        "\t\t\"RecordState\": \"ACTIVE\",\n",
        "\t\t\"Region\": \"us-east-1\",\n",
        "\t\t\"RelatedFindings\": null,\n",
        "\t\t\"Remediation\": {\n",
        "\t\t\t\"Recommendation\": {\n",
        "\t\t\t\t\"Text\": \"For information on how to correct this issue, consult the AWS Security Hub controls documentation.\",\n",
        "\t\t\t\t\"Url\": \"https://docs.aws.amazon.com/console/securityhub/CloudWatch.3/remediation\"\n",
        "\t\t\t}\n",
        "\t\t},\n",
        "\t\t\"Resources\": [\n",
        "\t\t\t{\n",
        "\t\t\t\t\"DataClassification\": null,\n",
        "\t\t\t\t\"Details\": null,\n",
        "\t\t\t\t\"Id\": \"AWS::::Account:0667123456\",\n",
        "\t\t\t\t\"Partition\": \"aws\",\n",
        "\t\t\t\t\"Region\": \"us-east-1\",\n",
        "\t\t\t\t\"ResourceRole\": null,\n",
        "\t\t\t\t\"Tags\": null,\n",
        "\t\t\t\t\"Type\": \"AwsAccount\"\n",
        "\t\t\t}\n",
        "\t\t],\n",
        "\t\t\"Sample\": null,\n",
        "\t\t\"SchemaVersion\": \"2018-10-08\",\n",
        "\t\t\"Severity\": {\n",
        "\t\t\t\"Label\": \"INFORMATIONAL\",\n",
        "\t\t\t\"Normalized\": 0,\n",
        "\t\t\t\"Original\": \"INFORMATIONAL\",\n",
        "\t\t\t\"Product\": 0\n",
        "\t\t},\n",
        "\t\t\"SourceUrl\": null,\n",
        "\t\t\"ThreatIntelIndicators\": null,\n",
        "\t\t\"Threats\": null,\n",
        "\t\t\"Title\": \"3.2 Ensure a log metric filter and alarm exist for Management Console sign-in without MFA\",\n",
        "\t\t\"Types\": [\n",
        "\t\t\t\"Software and Configuration Checks/Industry and Regulatory Standards/CIS AWS Foundations Benchmark\"\n",
        "\t\t],\n",
        "\t\t\"UpdatedAt\": \"2024-07-31T03:55:17.626Z\",\n",
        "\t\t\"UserDefinedFields\": null,\n",
        "\t\t\"VerificationState\": null,\n",
        "\t\t\"Vulnerabilities\": null,\n",
        "\t\t\"Workflow\": {\n",
        "\t\t\t\"Status\": \"RESOLVED\"\n",
        "\t\t},\n",
        "\t\t\"WorkflowState\": \"NEW\"\n",
        "\t}"
      ]
    },
    {
      "cell_type": "markdown",
      "metadata": {
        "id": "OMfAqx9AZD-R"
      },
      "source": [
        "# Step 3: Define the Standard Schema\n",
        "  \n"
      ]
    },
    {
      "cell_type": "code",
      "execution_count": null,
      "metadata": {
        "id": "rjwrF9FPg9kE"
      },
      "outputs": [],
      "source": [
        "{\n",
        "        \"System\": \"aws\",\n",
        "        \"Source\": \"aws_security_hub\",\n",
        "        \"ResourceID\": \"arn:aws:ec2:us-east-1:0667123456:security-group/sg-0f5b752a450298hgb\",\n",
        "        \"ResourceName\": \"sg-0f5b752a450298hgb\",\n",
        "        \"ResourceType\": \"AwsEc2SecurityGroup\",\n",
        "        \"ResourceLocation\": \"us-east-1\",\n",
        "        \"ResourceTags\": null,\n",
        "        \"ValidationStatusCode\": \"IPv4_INCOMING_SSH_ENABLED\",\n",
        "        \"ValidationStatusNotes\": \"Incoming ssh traffic enabled\",\n",
        "        \"ComplianceStatus\": \"NON_COMPLIANT\",\n",
        "        \"ComplianceStatusReason\": \"Record is non-compliant because incoming SSH traffic is enabled.\",\n",
        "        \"EvaluatedTime\": \"2024-07-31T01:27:45.546Z\",\n",
        "        \"UserAction\": \"\",\n",
        "        \"ActionStatus\": \"\",\n",
        "        \"ActionResponseURL\": \"\",\n",
        "        \"ResourceUrl\": \"https://us-east-1.console.aws.amazon.com/ec2/home?region=us-east-1#SecurityGroup:groupId=sg-0f5b752a450298hgb\"\n",
        "}"
      ]
    },
    {
      "cell_type": "markdown",
      "metadata": {
        "id": "vQQKJKfUabxd"
      },
      "source": [
        " |System | Source         | ResourceID                                                                                     | ResourceName          | ResourceType         | ResourceLocation | ResourceTags | ValidationStatusCode    | ValidationStatusNotes         | ComplianceStatus | ComplianceStatusReason                                     | EvaluatedTime               | UserAction | ActionStatus | ActionResponseURL | ResourceUrl                                                                                                      |\n",
        "|--------|----------------|------------------------------------------------------------------------------------------------|-----------------------|----------------------|------------------|--------------|-------------------------|-------------------------------|------------------|-------------------------------------------------------------|-----------------------------|------------|--------------|-------------------|------------------------------------------------------------------------------------------------------------------|\n",
        "| aws    | aws_security_hub | arn:aws:ec2:us-east-1:0667123456:security-group/sg-0f5b752a450298hgb | sg-0f5b752a450298hgb | AwsEc2SecurityGroup | us-east-1        | None         | IPv4_INCOMING_SSH_ENABLED | Incoming ssh traffic enabled  | NON_COMPLIANT   | Record is non-compliant because incoming SSH traffic is enabled. | 2024-07-31T01:27:45.546Z    |            |              |                   | https://us-east-1.console.aws.amazon.com/ec2/home?region=us-east-1#SecurityGroup:groupId=sg-0f5b752a450298hgb |\n"
      ]
    },
    {
      "cell_type": "markdown",
      "metadata": {
        "id": "bxsZR5l8SiOd"
      },
      "source": [
        "# Step 4: Describe the Compliance Taxonomy\n",
        "\n",
        "ValidationStatusCode, ValidationStatusNotes, ComplianceStatus, and ComplianceStatusReason will be reflected based on the rule configuration file. Please see the example below.\n",
        "\n",
        "\n",
        "\n",
        "| **ValidationStatusCode**      | **ValidationStatusNotes**       | **ComplianceStatus** | **ComplianceStatusReason**                                      |\n",
        "|-------------------------------|---------------------------------|----------------------|------------------------------------------------------------------|\n",
        "| IPv4_INCOMING_SSH_ENABLED    | Incoming ssh traffic enabled    | NON_COMPLIANT        | Record is non-compliant because incoming SSH traffic is enabled.           |\n",
        "| IPv4_INCOMING_SSH_DISABLED    | Incoming ssh traffic disabled    | COMPLIANT        | Record is compliant as incoming ssh traffic disabled           |"
      ]
    },
    {
      "cell_type": "markdown",
      "metadata": {
        "id": "Son7AJzlS0hh"
      },
      "source": [
        "# Step 5: Calculation for Compliance Percentage and Status\n",
        "\n",
        "\n"
      ]
    },
    {
      "cell_type": "code",
      "execution_count": null,
      "metadata": {
        "id": "nZMdcSLnNaQe"
      },
      "outputs": [],
      "source": [
        "# Calculation of Compliance Percentage\n",
        "\n",
        "TotalRecordCount = Count of 'COMPLIANT' and 'NON_COMPLIANT' records\n",
        "FailedRecordCount = Count of 'NON_COMPLIANT' records\n",
        "\n",
        "CompliancePCT = int(100 - ((FailedRecordCount * 100) / TotalRecordCount))\n",
        "\n",
        "Compliance Status\n",
        "COMPLIANT - 100%\n",
        "NON_COMPLIANT - 0% to less than 100%"
      ]
    },
    {
      "cell_type": "markdown",
      "metadata": {
        "id": "uVDZ3Jv9TKZx"
      },
      "source": [
        "# Step 6: Describe (in words) the Remediation Steps for Non-Compliance"
      ]
    },
    {
      "cell_type": "markdown",
      "metadata": {
        "id": "IS5_pE75TfxN"
      },
      "source": []
    },
    {
      "cell_type": "markdown",
      "metadata": {
        "id": "trjrGTI6N3wv"
      },
      "source": [
        "# Step 7: Control Setup Details"
      ]
    },
    {
      "cell_type": "markdown",
      "metadata": {
        "id": "IHKtasdRN6-V"
      },
      "source": [
        "| Control Details            |                               |\n",
        "|----------------------------|-------------------------------|\n",
        "| **RuleName**               | ProcessFindingsFromSecurityHub                  |\n",
        "| **PreRequisiteRuleNames**  | FetchSecurityHubFindings           |\n",
        "| **ApplicationClassName**   | AWSAppConnector               |"
      ]
    }
  ],
  "metadata": {
    "colab": {
      "provenance": []
    },
    "kernelspec": {
      "display_name": "Python 3",
      "name": "python3"
    },
    "language_info": {
      "name": "python"
    }
  },
  "nbformat": 4,
  "nbformat_minor": 0
}
