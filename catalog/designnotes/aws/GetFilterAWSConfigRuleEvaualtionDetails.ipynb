{
  "cells": [
    {
      "cell_type": "markdown",
      "metadata": {
        "id": "sFlmicb0Mlse"
      },
      "source": [
        "# Step 1: Evidence Details\n",
        "\n",
        "|System|Source of data|Frameworks|Purpose|\n",
        "|---|---|---|---|\n",
        "|aws|compliancecow||Filter the AWS Config rule evaluation details and produce compliance data based on the provided rule configuration file.|\n",
        "\n",
        "```\n",
        "RecomendedEvidenceName: Evidence name is provided in the rule configuration file.\n",
        "```"
      ]
    },
    {
      "cell_type": "markdown",
      "metadata": {
        "id": "HwaAN4PWRC-_"
      },
      "source": [
        "# Step 2: Define the System Specific Data (a.k.a Extended Data Schema)\n"
      ]
    },
    {
      "cell_type": "code",
      "execution_count": null,
      "metadata": {
        "id": "a7nxEIiVcL4t"
      },
      "outputs": [],
      "source": [
        "# RuleConfigFile Sample\n",
        "\n",
        "  {\n",
        "\t\t\"RuleName\": \"ec2-instance-profile-attached\",\n",
        "\t\t\"EvidenceName\": \"Ec2InstanceProfileAttached\",\n",
        "\t\t\"COMPLIANT\": [\n",
        "\t\t\t{\n",
        "\t\t\t\t\"ValidationStatusCode\": \"EC2_INSTANCE_PROFILE_ATTACHED\",\n",
        "\t\t\t\t\"ValidationStatusNotes\": \"An IAM profile is attached to the Amazon EC2 instance.\",\n",
        "\t\t\t\t\"ComplianceStatusReason\": \"The Amazon EC2 instance has an IAM profile attached. This allows for secure and controlled access to AWS resources by granting specific permissions\"\n",
        "\t\t\t}\n",
        "\t\t],\n",
        "\t\t\"NON_COMPLIANT\": [\n",
        "\t\t\t{\n",
        "\t\t\t  \"ValidationStatusCode\": \"EC2_INSTANCE_PROFILE_NOT_ATTACHED\",\n",
        "\t\t\t\t\"ValidationStatusNotes\": \"No IAM profile is attached to the Amazon EC2 instance.\",\n",
        "\t\t\t\t\"ComplianceStatusReason\": \"The Amazon EC2 instance does not have an IAM profile attached. Without an IAM profile attached an EC2 instance lacks access to required AWS resources, potentially causing functionality issues or security gaps\"\n",
        "\t\t\t}\n",
        "\t\t]\n",
        "\t}\n",
        "\n",
        "\n",
        "\n",
        "# Rule list sample\n",
        "\n",
        "   {\n",
        "\t\t\"ConfigRuleArn\": \"arn:aws:config:us-west-2:06845792626:config-rule/config-rule-test\",\n",
        "\t\t\"ConfigRuleId\": \"config-rule-test\",\n",
        "\t\t\"ConfigRuleName\": \"ec2-instance-profile-attached\",\n",
        "\t\t\"ConfigRuleState\": \"ACTIVE\",\n",
        "\t\t\"CreatedBy\": null,\n",
        "\t\t\"Description\": \"Checks if an Amazon Elastic Compute Cloud (Amazon EC2) instance has an Identity and Access Management (IAM) profile attached to it. This rule is NON_COMPLIANT if no IAM profile is attached to the Amazon EC2 instance.\",\n",
        "\t\t\"InputParameters\": \"{}\",\n",
        "\t\t\"MaximumExecutionFrequency\": null,\n",
        "\t\t\"Scope\": {\n",
        "\t\t\t\"ComplianceResourceId\": null,\n",
        "\t\t\t\"ComplianceResourceTypes\": [\n",
        "\t\t\t\t\"AWS::EC2::Instance\"\n",
        "\t\t\t],\n",
        "\t\t\t\"TagKey\": null,\n",
        "\t\t\t\"TagValue\": null\n",
        "\t\t},\n",
        "\t\t\"Source\": {\n",
        "\t\t\t\"CustomPolicyDetails\": null,\n",
        "\t\t\t\"Owner\": \"AWS\",\n",
        "\t\t\t\"SourceDetails\": null,\n",
        "\t\t\t\"SourceIdentifier\": \"EC2_INSTANCE_PROFILE_ATTACHED\"\n",
        "\t\t}\n",
        "\t}\n",
        "\n",
        "\n",
        " # EvaluationResult Sample\n",
        "\n",
        "  {\n",
        "\t\t\"EvaluationResult\": {\n",
        "\t\t\t\"Annotation\": null,\n",
        "\t\t\t\"ComplianceType\": \"COMPLIANT\",\n",
        "\t\t\t\"ConfigRuleInvokedTime\": \"2022-01-25T03:21:09.75Z\",\n",
        "\t\t\t\"EvaluationResultIdentifier\": {\n",
        "\t\t\t\t\"EvaluationResultQualifier\": {\n",
        "\t\t\t\t\t\"ConfigRuleName\": \"ec2-instance-profile-attached\",\n",
        "\t\t\t\t\t\"ResourceId\": \"i-071cdvakj90e43\",\n",
        "\t\t\t\t\t\"ResourceType\": \"AWS::EC2::Instance\"\n",
        "\t\t\t\t},\n",
        "\t\t\t\t\"OrderingTimestamp\": \"2022-01-25T03:20:39.787Z\"\n",
        "\t\t\t},\n",
        "\t\t\t\"ResultRecordedTime\": \"2022-01-25T03:21:10.013Z\",\n",
        "\t\t\t\"ResultToken\": null\n",
        "\t\t},\n",
        "\t\t\"ResourceName\": \"\",\n",
        "\t\t\"AwsRegion\": \"\"\n",
        "\t}\n"
      ]
    },
    {
      "cell_type": "markdown",
      "metadata": {
        "id": "OMfAqx9AZD-R"
      },
      "source": [
        "# Step 3: Define the Standard Schema\n",
        "  \n"
      ]
    },
    {
      "cell_type": "code",
      "execution_count": null,
      "metadata": {
        "id": "rjwrF9FPg9kE"
      },
      "outputs": [],
      "source": [
        "{\n",
        "        \"System\": \"aws\",\n",
        "        \"Source\": \"aws_config\",\n",
        "        \"ResourceId\": \"i-071cdvakj90e43\",\n",
        "        \"ResourceName\": \"\",\n",
        "        \"ResourceType\": \"AWS::EC2::Instance\",\n",
        "        \"ResourceLocation\": \"\",\n",
        "        \"ResourceURL\": \"N/A\", # Resource URL is  applicable for restricted resources\n",
        "        \"ConfigRuleName\": \"ec2-instance-profile-attached\",\n",
        "        \"ValidationStatusCode\": \"EC2_INSTANCE_PROFILE_ATTACHED\",\n",
        "        \"ValidationStatusNotes\": \"An IAM profile is attached to the Amazon EC2 instance.\",\n",
        "        \"ComplianceStatus\": \"COMPLIANT\",\n",
        "        \"ComplianceStatusReason\": \"The Amazon EC2 instance has an IAM profile attached. This allows for secure and controlled access to AWS resources by granting specific permissions\",\n",
        "        \"EvaluationTime\": \"2022-01-25T03:21:10.013Z\",\n",
        "        \"UserAction\": \"\",\n",
        "        \"ActionStatus\": \"\",\n",
        "        \"ActionResponseURL\": \"\"\n",
        "}"
      ]
    },
    {
      "cell_type": "markdown",
      "metadata": {
        "id": "vQQKJKfUabxd"
      },
      "source": [
        "# Step 3.a: Sample Data\n",
        "\n",
        "| System | Source      | ResourceId       | ResourceName | ResourceType          | ResourceLocation | ResourceURL | ConfigRuleName                  | ValidationStatusCode           | ValidationStatusNotes                                       | ComplianceStatus | ComplianceStatusReason                                                                                           | EvaluationTime           | UserAction | ActionStatus | ActionResponseURL |\n",
        "|--------|-------------|------------------|--------------|-----------------------|------------------|-------------|--------------------------------|--------------------------------|-------------------------------------------------------------|------------------|------------------------------------------------------------------------------------------------------------------|--------------------------|------------|-------------|-------------------|\n",
        "| aws    | aws_config  | i-071cdvakj90e43 |              | AWS::EC2::Instance    |                  | N/A         | ec2-instance-profile-attached   | EC2_INSTANCE_PROFILE_ATTACHED   | An IAM profile is attached to the Amazon EC2 instance.        | COMPLIANT        | The Amazon EC2 instance has an IAM profile attached. This allows for secure and controlled access to AWS resources by granting specific permissions. | 2022-01-25T03:21:10.013Z |            |             |                   |\n"
      ]
    },
    {
      "cell_type": "markdown",
      "metadata": {
        "id": "bxsZR5l8SiOd"
      },
      "source": [
        "# Step 4: Describe the Compliance Taxonomy\n",
        "\n",
        "ValidationStatusCode, ValidationStatusNotes, ComplianceStatus, and ComplianceStatusReason will be reflected based on the rule configuration file. Please see the example below.\n",
        "\n",
        "\n",
        "\n",
        "| **ValidationStatusCode**         | **ValidationStatusNotes**                          | **ComplianceStatus** | **ComplianceStatusReason**                                                                                                                                                    |\n",
        "|---------------------------------|----------------------------------------------------|----------------------|--------------------------------------------------------------------------------------------------------------------------------------------------------------------------------|\n",
        "| EC2_INSTANCE_PROFILE_ATTACHED   | An IAM profile is attached to the Amazon EC2 instance. | COMPLIANT            | The Amazon EC2 instance has an IAM profile attached. This allows for secure and controlled access to AWS resources by granting specific permissions. |\n",
        "| EC2_INSTANCE_PROFILE_NOT_ATTACHED   | No IAM profile is attached to the Amazon EC2 instance. | NON_COMPLIANT            | The Amazon EC2 instance does not have an IAM profile attached. Without an IAM profile attached an EC2 instance lacks access to required AWS resources, potentially causing functionality issues or security gaps |"
      ]
    },
    {
      "cell_type": "markdown",
      "metadata": {
        "id": "Son7AJzlS0hh"
      },
      "source": [
        "# Step 5: Calculation for Compliance Percentage and Status\n",
        "\n",
        "\n"
      ]
    },
    {
      "cell_type": "code",
      "execution_count": null,
      "metadata": {
        "id": "nZMdcSLnNaQe"
      },
      "outputs": [],
      "source": [
        "# Calculation of Compliance Percentage\n",
        "\n",
        "TotalRecordCount = Count of 'COMPLIANT' and 'NON_COMPLIANT' records\n",
        "FailedRecordCount = Count of 'NON_COMPLIANT' records\n",
        "\n",
        "CompliancePCT = int(100 - ((FailedRecordCount * 100) / TotalRecordCount))\n",
        "\n",
        "Compliance Status\n",
        "COMPLIANT - 100%\n",
        "NON_COMPLIANT - 0% to less than 100%"
      ]
    },
    {
      "cell_type": "markdown",
      "metadata": {
        "id": "uVDZ3Jv9TKZx"
      },
      "source": [
        "# Step 6: Describe (in words) the Remediation Steps for Non-Compliance"
      ]
    },
    {
      "cell_type": "code",
      "execution_count": null,
      "metadata": {
        "id": "Fpx0QKZd5wls"
      },
      "outputs": [],
      "source": [
        "1. CreateJiraTicket\n",
        "2. NotifyBySlackChannel"
      ]
    },
    {
      "cell_type": "markdown",
      "metadata": {
        "id": "trjrGTI6N3wv"
      },
      "source": [
        "# Step 7: Control Setup Details"
      ]
    },
    {
      "cell_type": "markdown",
      "metadata": {
        "id": "IHKtasdRN6-V"
      },
      "source": [
        "| Control Details            |                               |\n",
        "|----------------------------|-------------------------------|\n",
        "| **RuleName**               | GetFilterAWSConfigRuleEvaualtionDetails                  |\n",
        "| **PreRequisiteRuleNames**  | GetAWSConfigRuleEvaluationDetails           |\n",
        "| **ApplicationClassName**   | AWSAppConnector               |"
      ]
    }
  ],
  "metadata": {
    "colab": {
      "provenance": []
    },
    "kernelspec": {
      "display_name": "Python 3",
      "name": "python3"
    },
    "language_info": {
      "name": "python"
    }
  },
  "nbformat": 4,
  "nbformat_minor": 0
}
